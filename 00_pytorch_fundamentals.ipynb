{
  "nbformat": 4,
  "nbformat_minor": 0,
  "metadata": {
    "colab": {
      "provenance": [],
      "collapsed_sections": [
        "2oILlKUmpLJh",
        "F16qBHaVr6tq",
        "KcEQTOj_r9Aw",
        "uB5Ek7zhsNKh",
        "sl5XP5MrsrnD",
        "hRKS6a_Rwv4_",
        "Mp07AeCNyYyy",
        "DS94wiS1zUI5",
        "1JJV0kR80mnt",
        "2efO2-Xf4d6a",
        "lTVaxnHf6QXm",
        "RFU6tSNWa5e6",
        "HcQmAF4iayVI",
        "6lyxpN6GbJqt",
        "gGtHTV2ZbbTq",
        "4oN0o1YFiB9u",
        "uxYiYfSBsmNK",
        "VFGFrd-7y-Hj",
        "OCEoZWV46uV4"
      ],
      "gpuType": "T4",
      "authorship_tag": "ABX9TyMExS7Fta9VQOhaIU7tSLv1",
      "include_colab_link": true
    },
    "kernelspec": {
      "name": "python3",
      "display_name": "Python 3"
    },
    "language_info": {
      "name": "python"
    },
    "accelerator": "GPU"
  },
  "cells": [
    {
      "cell_type": "markdown",
      "metadata": {
        "id": "view-in-github",
        "colab_type": "text"
      },
      "source": [
        "<a href=\"https://colab.research.google.com/github/prakhar-luke/pytorch_practice/blob/main/00_pytorch_fundamentals.ipynb\" target=\"_parent\"><img src=\"https://colab.research.google.com/assets/colab-badge.svg\" alt=\"Open In Colab\"/></a>"
      ]
    },
    {
      "cell_type": "code",
      "source": [
        "import torch\n",
        "torch.__version__"
      ],
      "metadata": {
        "id": "schgREn0Cv4h",
        "colab": {
          "base_uri": "https://localhost:8080/",
          "height": 35
        },
        "outputId": "0c50607a-75a0-4ecf-c1b5-fe33b4c5cac6"
      },
      "execution_count": 1,
      "outputs": [
        {
          "output_type": "execute_result",
          "data": {
            "text/plain": [
              "'2.0.1+cu118'"
            ],
            "application/vnd.google.colaboratory.intrinsic+json": {
              "type": "string"
            }
          },
          "metadata": {},
          "execution_count": 1
        }
      ]
    },
    {
      "cell_type": "code",
      "source": [
        "import numpy as np"
      ],
      "metadata": {
        "id": "o8BvYCfm8Gnc"
      },
      "execution_count": 2,
      "outputs": []
    },
    {
      "cell_type": "markdown",
      "source": [
        "# Intro to Tensors"
      ],
      "metadata": {
        "id": "-O_hW-INo-rz"
      }
    },
    {
      "cell_type": "markdown",
      "source": [
        "## Creating Tensors"
      ],
      "metadata": {
        "id": "2oILlKUmpLJh"
      }
    },
    {
      "cell_type": "markdown",
      "source": [
        "### Scalar Tensor"
      ],
      "metadata": {
        "id": "F16qBHaVr6tq"
      }
    },
    {
      "cell_type": "code",
      "source": [
        "# Scalar tensor\n",
        "scalar = torch.tensor(7)\n",
        "scalar"
      ],
      "metadata": {
        "colab": {
          "base_uri": "https://localhost:8080/"
        },
        "id": "mbkqWNwHpOAh",
        "outputId": "78f492c2-e516-4ae6-c2f4-37b5d335cc13"
      },
      "execution_count": null,
      "outputs": [
        {
          "output_type": "execute_result",
          "data": {
            "text/plain": [
              "tensor(7)"
            ]
          },
          "metadata": {},
          "execution_count": 2
        }
      ]
    },
    {
      "cell_type": "code",
      "source": [
        "scalar.ndim"
      ],
      "metadata": {
        "colab": {
          "base_uri": "https://localhost:8080/"
        },
        "id": "Dl4qZeZOrA5Q",
        "outputId": "1689f445-6de1-468a-9f93-9338e0542fb6"
      },
      "execution_count": null,
      "outputs": [
        {
          "output_type": "execute_result",
          "data": {
            "text/plain": [
              "0"
            ]
          },
          "metadata": {},
          "execution_count": 3
        }
      ]
    },
    {
      "cell_type": "code",
      "source": [
        "# get tensor back as Python int\n",
        "scalar.item()"
      ],
      "metadata": {
        "colab": {
          "base_uri": "https://localhost:8080/"
        },
        "id": "Cr7STVWvrljk",
        "outputId": "ffd75097-fa7f-454f-e3a9-eaae87eb92cd"
      },
      "execution_count": null,
      "outputs": [
        {
          "output_type": "execute_result",
          "data": {
            "text/plain": [
              "7"
            ]
          },
          "metadata": {},
          "execution_count": 5
        }
      ]
    },
    {
      "cell_type": "markdown",
      "source": [
        "### Vector"
      ],
      "metadata": {
        "id": "KcEQTOj_r9Aw"
      }
    },
    {
      "cell_type": "code",
      "source": [
        "# Vector\n",
        "vector = torch.tensor([7,7])\n",
        "vector"
      ],
      "metadata": {
        "colab": {
          "base_uri": "https://localhost:8080/"
        },
        "id": "0irE7oBHroR7",
        "outputId": "631e2014-6efa-4633-d3ac-399ee0090e61"
      },
      "execution_count": null,
      "outputs": [
        {
          "output_type": "execute_result",
          "data": {
            "text/plain": [
              "tensor([7, 7])"
            ]
          },
          "metadata": {},
          "execution_count": 7
        }
      ]
    },
    {
      "cell_type": "code",
      "source": [
        "vector.ndim"
      ],
      "metadata": {
        "colab": {
          "base_uri": "https://localhost:8080/"
        },
        "id": "zTdzBlFgsEZn",
        "outputId": "8909b606-55f8-438c-a125-53e73ddf5069"
      },
      "execution_count": null,
      "outputs": [
        {
          "output_type": "execute_result",
          "data": {
            "text/plain": [
              "1"
            ]
          },
          "metadata": {},
          "execution_count": 8
        }
      ]
    },
    {
      "cell_type": "code",
      "source": [
        "vector.shape"
      ],
      "metadata": {
        "colab": {
          "base_uri": "https://localhost:8080/"
        },
        "id": "2faaaP3jsIpo",
        "outputId": "931f5c86-4046-43f0-9bf0-c79d652d000b"
      },
      "execution_count": null,
      "outputs": [
        {
          "output_type": "execute_result",
          "data": {
            "text/plain": [
              "torch.Size([2])"
            ]
          },
          "metadata": {},
          "execution_count": 9
        }
      ]
    },
    {
      "cell_type": "markdown",
      "source": [
        "### Matrix"
      ],
      "metadata": {
        "id": "uB5Ek7zhsNKh"
      }
    },
    {
      "cell_type": "code",
      "source": [
        "# Matrix\n",
        "Matrix = torch.tensor([[7,5],\n",
        "                       [8,4]])\n",
        "Matrix"
      ],
      "metadata": {
        "colab": {
          "base_uri": "https://localhost:8080/"
        },
        "id": "pb11YHDpsK6w",
        "outputId": "083f9751-5654-487f-ec15-51beaeeb606d"
      },
      "execution_count": null,
      "outputs": [
        {
          "output_type": "execute_result",
          "data": {
            "text/plain": [
              "tensor([[7, 5],\n",
              "        [8, 4]])"
            ]
          },
          "metadata": {},
          "execution_count": 10
        }
      ]
    },
    {
      "cell_type": "code",
      "source": [
        "Matrix.ndim"
      ],
      "metadata": {
        "colab": {
          "base_uri": "https://localhost:8080/"
        },
        "id": "3I9xBSKWsdsH",
        "outputId": "a5984c46-a0c9-4bbf-fe73-352f0074b11f"
      },
      "execution_count": null,
      "outputs": [
        {
          "output_type": "execute_result",
          "data": {
            "text/plain": [
              "2"
            ]
          },
          "metadata": {},
          "execution_count": 11
        }
      ]
    },
    {
      "cell_type": "code",
      "source": [
        "Matrix[0]"
      ],
      "metadata": {
        "colab": {
          "base_uri": "https://localhost:8080/"
        },
        "id": "xtDx_I34shRW",
        "outputId": "67b72239-fc5e-4a36-b8e0-141e5bdedaef"
      },
      "execution_count": null,
      "outputs": [
        {
          "output_type": "execute_result",
          "data": {
            "text/plain": [
              "tensor([7, 5])"
            ]
          },
          "metadata": {},
          "execution_count": 12
        }
      ]
    },
    {
      "cell_type": "code",
      "source": [
        "Matrix.shape"
      ],
      "metadata": {
        "colab": {
          "base_uri": "https://localhost:8080/"
        },
        "id": "PnvW1lZqsjyM",
        "outputId": "645c0cbd-99b2-4618-db2b-64be0718d146"
      },
      "execution_count": null,
      "outputs": [
        {
          "output_type": "execute_result",
          "data": {
            "text/plain": [
              "torch.Size([2, 2])"
            ]
          },
          "metadata": {},
          "execution_count": 13
        }
      ]
    },
    {
      "cell_type": "markdown",
      "source": [
        "### Tensor"
      ],
      "metadata": {
        "id": "sl5XP5MrsrnD"
      }
    },
    {
      "cell_type": "code",
      "source": [
        "TENSOR = torch.tensor([[[1, 2, 3],\n",
        "                        [4, 5, 6],\n",
        "                        [7, 8, 9]]])\n",
        "TENSOR"
      ],
      "metadata": {
        "colab": {
          "base_uri": "https://localhost:8080/"
        },
        "id": "1i412cAAsotw",
        "outputId": "a8e9efdb-0fa3-4203-c0d6-59d2546feac4"
      },
      "execution_count": null,
      "outputs": [
        {
          "output_type": "execute_result",
          "data": {
            "text/plain": [
              "tensor([[[1, 2, 3],\n",
              "         [4, 5, 6],\n",
              "         [7, 8, 9]]])"
            ]
          },
          "metadata": {},
          "execution_count": 14
        }
      ]
    },
    {
      "cell_type": "code",
      "source": [
        "TENSOR.ndim"
      ],
      "metadata": {
        "colab": {
          "base_uri": "https://localhost:8080/"
        },
        "id": "lza6-QRQs8YF",
        "outputId": "ceb1e93e-956a-484a-82c2-37aea88f77a9"
      },
      "execution_count": null,
      "outputs": [
        {
          "output_type": "execute_result",
          "data": {
            "text/plain": [
              "3"
            ]
          },
          "metadata": {},
          "execution_count": 15
        }
      ]
    },
    {
      "cell_type": "code",
      "source": [
        "TENSOR.shape"
      ],
      "metadata": {
        "colab": {
          "base_uri": "https://localhost:8080/"
        },
        "id": "DYSPGtU6tHe7",
        "outputId": "c431cd5d-8599-477d-81a2-4e13b8ffbe05"
      },
      "execution_count": null,
      "outputs": [
        {
          "output_type": "execute_result",
          "data": {
            "text/plain": [
              "torch.Size([1, 3, 3])"
            ]
          },
          "metadata": {},
          "execution_count": 16
        }
      ]
    },
    {
      "cell_type": "code",
      "source": [
        "Tensor[0][0][0]"
      ],
      "metadata": {
        "colab": {
          "base_uri": "https://localhost:8080/"
        },
        "id": "UQrWq8-ltJFr",
        "outputId": "651183c9-1e7e-4774-9059-20d9d1dd1320"
      },
      "execution_count": null,
      "outputs": [
        {
          "output_type": "execute_result",
          "data": {
            "text/plain": [
              "tensor(1)"
            ]
          },
          "metadata": {},
          "execution_count": 19
        }
      ]
    },
    {
      "cell_type": "markdown",
      "source": [
        "### Random Tensor"
      ],
      "metadata": {
        "id": "hRKS6a_Rwv4_"
      }
    },
    {
      "cell_type": "code",
      "source": [
        "# randome tensor\n",
        "random_tensor = torch.rand(size=(3, 4))"
      ],
      "metadata": {
        "id": "WHSaPgH1ukcV"
      },
      "execution_count": null,
      "outputs": []
    },
    {
      "cell_type": "code",
      "source": [
        "print(random_tensor)\n",
        "print(random_tensor.dtype)\n",
        "print(random_tensor.shape)\n",
        "print(random_tensor.ndim)"
      ],
      "metadata": {
        "colab": {
          "base_uri": "https://localhost:8080/"
        },
        "id": "Ozx_cN8OxYyf",
        "outputId": "1f6f5558-7fea-4558-e78a-7a4b29ddcece"
      },
      "execution_count": null,
      "outputs": [
        {
          "output_type": "stream",
          "name": "stdout",
          "text": [
            "tensor([[0.7558, 0.0915, 0.4734, 0.9220],\n",
            "        [0.1478, 0.6913, 0.9425, 0.4875],\n",
            "        [0.6458, 0.5920, 0.3301, 0.5753]])\n",
            "torch.float32\n",
            "torch.Size([3, 4])\n",
            "2\n"
          ]
        }
      ]
    },
    {
      "cell_type": "code",
      "source": [
        "# create random tensor with simialr shape to an image tensor\n",
        "rand_img_size_tensor = torch.rand(size=(224,224,3))\n",
        "print(rand_img_size_tensor.shape)\n",
        "print(rand_img_size_tensor.ndim)"
      ],
      "metadata": {
        "colab": {
          "base_uri": "https://localhost:8080/"
        },
        "id": "zDTHGVmKx8iM",
        "outputId": "44682069-1572-48e3-cbb0-f8adf141148e"
      },
      "execution_count": null,
      "outputs": [
        {
          "output_type": "stream",
          "name": "stdout",
          "text": [
            "torch.Size([224, 224, 3])\n",
            "3\n"
          ]
        }
      ]
    },
    {
      "cell_type": "markdown",
      "source": [
        "### Zeros and Ones"
      ],
      "metadata": {
        "id": "Mp07AeCNyYyy"
      }
    },
    {
      "cell_type": "code",
      "source": [
        "# Create a tensor of all zeros\n",
        "zeros = torch.zeros(size=(3,2))\n",
        "zeros"
      ],
      "metadata": {
        "colab": {
          "base_uri": "https://localhost:8080/"
        },
        "id": "LPkDNTPxy9hk",
        "outputId": "c9c26c01-16eb-4cf2-8ded-e83fc22907ee"
      },
      "execution_count": null,
      "outputs": [
        {
          "output_type": "execute_result",
          "data": {
            "text/plain": [
              "tensor([[0., 0.],\n",
              "        [0., 0.],\n",
              "        [0., 0.]])"
            ]
          },
          "metadata": {},
          "execution_count": 9
        }
      ]
    },
    {
      "cell_type": "code",
      "source": [
        "# Create a tensor of all ones\n",
        "Ones = torch.ones(size=(3,2))\n",
        "print(Ones)"
      ],
      "metadata": {
        "colab": {
          "base_uri": "https://localhost:8080/"
        },
        "id": "OBv4ZsP0zFrD",
        "outputId": "94e72245-9524-45f7-c384-c281490d2a6f"
      },
      "execution_count": null,
      "outputs": [
        {
          "output_type": "stream",
          "name": "stdout",
          "text": [
            "tensor([[1., 1.],\n",
            "        [1., 1.],\n",
            "        [1., 1.]])\n"
          ]
        }
      ]
    },
    {
      "cell_type": "code",
      "source": [
        "Ones.dtype"
      ],
      "metadata": {
        "colab": {
          "base_uri": "https://localhost:8080/"
        },
        "id": "qlw2oNd5zRzV",
        "outputId": "d7368e9d-ed72-4910-96f2-b90c43029d90"
      },
      "execution_count": null,
      "outputs": [
        {
          "output_type": "execute_result",
          "data": {
            "text/plain": [
              "torch.float32"
            ]
          },
          "metadata": {},
          "execution_count": 11
        }
      ]
    },
    {
      "cell_type": "markdown",
      "source": [
        "### Creating a range or tensors and tensors-like"
      ],
      "metadata": {
        "id": "DS94wiS1zUI5"
      }
    },
    {
      "cell_type": "code",
      "source": [
        "# Dont use torch.range(): torch.range() is deprecated and may show an error in the future.\n",
        "one_2_end = torch.arange(start= 1, end= 11, step=2)\n",
        "print(one_2_end)"
      ],
      "metadata": {
        "colab": {
          "base_uri": "https://localhost:8080/"
        },
        "id": "1_PYYc5JzkS1",
        "outputId": "55b9bf4f-39f0-4c5a-a1c0-0eb816a18565"
      },
      "execution_count": null,
      "outputs": [
        {
          "output_type": "stream",
          "name": "stdout",
          "text": [
            "tensor([1, 3, 5, 7, 9])\n"
          ]
        }
      ]
    },
    {
      "cell_type": "code",
      "source": [
        "# creating tensors like\n",
        "one_2_nine = torch.zeros_like(one_2_end)\n",
        "one_2_nine"
      ],
      "metadata": {
        "colab": {
          "base_uri": "https://localhost:8080/"
        },
        "id": "LCPEP6gyzoog",
        "outputId": "ee1222b4-dd0a-4dbc-ba81-adc907b39a2f"
      },
      "execution_count": null,
      "outputs": [
        {
          "output_type": "execute_result",
          "data": {
            "text/plain": [
              "tensor([0, 0, 0, 0, 0])"
            ]
          },
          "metadata": {},
          "execution_count": 16
        }
      ]
    },
    {
      "cell_type": "markdown",
      "source": [
        "## Tensor DataTypes"
      ],
      "metadata": {
        "id": "1JJV0kR80mnt"
      }
    },
    {
      "cell_type": "markdown",
      "source": [
        "Common datatype errors:\n",
        "1. Tensors not right dtype\n",
        "2. Tensors not right shape\n",
        "3. Tensors not on the right device"
      ],
      "metadata": {
        "id": "mL3qK7yK3Gan"
      }
    },
    {
      "cell_type": "code",
      "source": [
        "# Float 32 tensor\n",
        "float_32_tensor = torch.tensor([3.0, 4, 5],\n",
        "                               dtype=None,            # datatype of tensor\n",
        "                               device = None,         # where tensor is 'cpu' or 'cuda'\n",
        "                               requires_grad=False)   # whether or to track gradient with this tensor operations"
      ],
      "metadata": {
        "id": "mvsLj1Kc1UCq"
      },
      "execution_count": null,
      "outputs": []
    },
    {
      "cell_type": "code",
      "source": [
        "float_32_tensor.dtype"
      ],
      "metadata": {
        "colab": {
          "base_uri": "https://localhost:8080/"
        },
        "id": "LULt5pc-1iwN",
        "outputId": "0863907d-ab7f-4d9e-e0de-5b717796b7f1"
      },
      "execution_count": null,
      "outputs": [
        {
          "output_type": "execute_result",
          "data": {
            "text/plain": [
              "torch.float32"
            ]
          },
          "metadata": {},
          "execution_count": 22
        }
      ]
    },
    {
      "cell_type": "code",
      "source": [
        "float_16_tensor = float_32_tensor.type(torch.float16) # or torch.half"
      ],
      "metadata": {
        "id": "bL0yWDUu1lfy"
      },
      "execution_count": null,
      "outputs": []
    },
    {
      "cell_type": "code",
      "source": [
        "float_16_tensor.dtype"
      ],
      "metadata": {
        "colab": {
          "base_uri": "https://localhost:8080/"
        },
        "id": "ZYxUom_n316g",
        "outputId": "3a413b51-8b8e-465e-e5ec-916ac2c46b91"
      },
      "execution_count": null,
      "outputs": [
        {
          "output_type": "execute_result",
          "data": {
            "text/plain": [
              "torch.float16"
            ]
          },
          "metadata": {},
          "execution_count": 24
        }
      ]
    },
    {
      "cell_type": "code",
      "source": [
        "float_16_tensor * float_32_tensor"
      ],
      "metadata": {
        "colab": {
          "base_uri": "https://localhost:8080/"
        },
        "id": "VrTal4MG34eV",
        "outputId": "dcbd2b4a-29dd-43e0-88f5-c307a2a0a818"
      },
      "execution_count": null,
      "outputs": [
        {
          "output_type": "execute_result",
          "data": {
            "text/plain": [
              "tensor([ 9., 16., 25.])"
            ]
          },
          "metadata": {},
          "execution_count": 25
        }
      ]
    },
    {
      "cell_type": "code",
      "source": [
        "int_bit32_tensor = torch.tensor([3, 6, 9], dtype=torch.int32)"
      ],
      "metadata": {
        "id": "sBqvN9014EHO"
      },
      "execution_count": null,
      "outputs": []
    },
    {
      "cell_type": "markdown",
      "source": [
        "## Getting information from tensors attributes"
      ],
      "metadata": {
        "id": "2efO2-Xf4d6a"
      }
    },
    {
      "cell_type": "markdown",
      "source": [
        "1. Tensors not right dtype - to get data type use `tensor.dtype`\n",
        "2. Tensors not right shape - to get shape use `tensor.shape`\n",
        "3. Tensors not on the right device - to get device use `tensor.device`"
      ],
      "metadata": {
        "id": "yH6Gv802471i"
      }
    },
    {
      "cell_type": "code",
      "source": [
        "rand_tensor = torch.rand(size=(3,2))\n",
        "rand_tensor"
      ],
      "metadata": {
        "colab": {
          "base_uri": "https://localhost:8080/"
        },
        "id": "_PWNMM2-5el9",
        "outputId": "72883807-151b-41a5-b1bd-19f6b3567965"
      },
      "execution_count": null,
      "outputs": [
        {
          "output_type": "execute_result",
          "data": {
            "text/plain": [
              "tensor([[0.7240, 0.5078],\n",
              "        [0.5549, 0.0397],\n",
              "        [0.5720, 0.0166]])"
            ]
          },
          "metadata": {},
          "execution_count": 28
        }
      ]
    },
    {
      "cell_type": "code",
      "source": [
        "# finding details from tensor\n",
        "print(rand_tensor)\n",
        "print(f\"DataType = {rand_tensor.dtype}\")\n",
        "print(f\"Shape = {rand_tensor.shape}\")\n",
        "print(f\"Device = {rand_tensor.device}\")"
      ],
      "metadata": {
        "colab": {
          "base_uri": "https://localhost:8080/"
        },
        "id": "jGpM9YOn5swD",
        "outputId": "13571bcd-54ea-4414-c824-8c91c19836cd"
      },
      "execution_count": null,
      "outputs": [
        {
          "output_type": "stream",
          "name": "stdout",
          "text": [
            "tensor([[0.7240, 0.5078],\n",
            "        [0.5549, 0.0397],\n",
            "        [0.5720, 0.0166]])\n",
            "DataType = torch.float32\n",
            "Shape = torch.Size([3, 2])\n",
            "Device = cpu\n"
          ]
        }
      ]
    },
    {
      "cell_type": "markdown",
      "source": [
        "## Manipulating tensors\n",
        "\n",
        "* Addition\n",
        "* Subtraction\n",
        "* Multiplication (element-wise)\n",
        "* Division\n",
        "* Matrix Multiplication"
      ],
      "metadata": {
        "id": "lTVaxnHf6QXm"
      }
    },
    {
      "cell_type": "code",
      "source": [
        "# create a tensor\n",
        "tensor = torch.tensor([1, 2, 3])"
      ],
      "metadata": {
        "id": "N3wretDP68ss"
      },
      "execution_count": null,
      "outputs": []
    },
    {
      "cell_type": "markdown",
      "source": [
        "### Addition"
      ],
      "metadata": {
        "id": "RFU6tSNWa5e6"
      }
    },
    {
      "cell_type": "code",
      "source": [
        "tensor + 10"
      ],
      "metadata": {
        "colab": {
          "base_uri": "https://localhost:8080/"
        },
        "id": "v81gBPAPawJK",
        "outputId": "5b998aa0-8175-4164-b793-9f2d9b98d271"
      },
      "execution_count": null,
      "outputs": [
        {
          "output_type": "execute_result",
          "data": {
            "text/plain": [
              "tensor([11, 12, 13])"
            ]
          },
          "metadata": {},
          "execution_count": 5
        }
      ]
    },
    {
      "cell_type": "code",
      "source": [
        "torch.add(tensor, 10)"
      ],
      "metadata": {
        "colab": {
          "base_uri": "https://localhost:8080/"
        },
        "id": "ymkXw5iFbicn",
        "outputId": "98398b70-850e-418b-8fea-ae25c755805a"
      },
      "execution_count": null,
      "outputs": [
        {
          "output_type": "execute_result",
          "data": {
            "text/plain": [
              "tensor([11, 12, 13])"
            ]
          },
          "metadata": {},
          "execution_count": 9
        }
      ]
    },
    {
      "cell_type": "markdown",
      "source": [
        "### Subtract"
      ],
      "metadata": {
        "id": "HcQmAF4iayVI"
      }
    },
    {
      "cell_type": "code",
      "source": [
        "tensor - 10"
      ],
      "metadata": {
        "colab": {
          "base_uri": "https://localhost:8080/"
        },
        "id": "UnHawo2wbIMO",
        "outputId": "0ac60a2a-5d2e-4a65-a857-51e913850f2d"
      },
      "execution_count": null,
      "outputs": [
        {
          "output_type": "execute_result",
          "data": {
            "text/plain": [
              "tensor([-9, -8, -7])"
            ]
          },
          "metadata": {},
          "execution_count": 6
        }
      ]
    },
    {
      "cell_type": "code",
      "source": [
        "torch.subtract(tensor, 10)"
      ],
      "metadata": {
        "colab": {
          "base_uri": "https://localhost:8080/"
        },
        "id": "wVijFuBlblKf",
        "outputId": "7dcc0a21-5962-4dc4-c82f-84d1c1e7d6fc"
      },
      "execution_count": null,
      "outputs": [
        {
          "output_type": "execute_result",
          "data": {
            "text/plain": [
              "tensor([-9, -8, -7])"
            ]
          },
          "metadata": {},
          "execution_count": 10
        }
      ]
    },
    {
      "cell_type": "markdown",
      "source": [
        "### Multiply"
      ],
      "metadata": {
        "id": "6lyxpN6GbJqt"
      }
    },
    {
      "cell_type": "code",
      "source": [
        "tensor * 10"
      ],
      "metadata": {
        "colab": {
          "base_uri": "https://localhost:8080/"
        },
        "id": "a2NSXjksbMnT",
        "outputId": "5070fcda-80a3-4758-c55b-ce5d9395d017"
      },
      "execution_count": null,
      "outputs": [
        {
          "output_type": "execute_result",
          "data": {
            "text/plain": [
              "tensor([10, 20, 30])"
            ]
          },
          "metadata": {},
          "execution_count": 7
        }
      ]
    },
    {
      "cell_type": "code",
      "source": [
        "torch.mul(tensor, 10)"
      ],
      "metadata": {
        "colab": {
          "base_uri": "https://localhost:8080/"
        },
        "id": "-MN7Q2LZbOcE",
        "outputId": "0cdfa529-db64-4fa1-c1d5-df10bf18c6f8"
      },
      "execution_count": null,
      "outputs": [
        {
          "output_type": "execute_result",
          "data": {
            "text/plain": [
              "tensor([10, 20, 30])"
            ]
          },
          "metadata": {},
          "execution_count": 8
        }
      ]
    },
    {
      "cell_type": "markdown",
      "source": [
        "### Matrix Multiplication"
      ],
      "metadata": {
        "id": "gGtHTV2ZbbTq"
      }
    },
    {
      "cell_type": "markdown",
      "source": [
        "Element wise multiplication"
      ],
      "metadata": {
        "id": "WnXhjNn-b5Bc"
      }
    },
    {
      "cell_type": "code",
      "source": [
        "print(tensor , \"*\", tensor)\n",
        "print(f\" = {tensor * tensor}\")"
      ],
      "metadata": {
        "colab": {
          "base_uri": "https://localhost:8080/"
        },
        "id": "3eL0lgZFcp9a",
        "outputId": "119446cb-3f6e-4c85-b7c8-b853b6af8b07"
      },
      "execution_count": null,
      "outputs": [
        {
          "output_type": "stream",
          "name": "stdout",
          "text": [
            "tensor([1, 2, 3]) * tensor([1, 2, 3])\n",
            " = tensor([1, 4, 9])\n"
          ]
        }
      ]
    },
    {
      "cell_type": "markdown",
      "source": [
        "Matrix Mul\n",
        "(dot product)\n",
        "- use `torch.matmul()` or `torch.mm()`\n",
        "- inner dimension should match\n",
        "- result shape = outer dimension"
      ],
      "metadata": {
        "id": "v_L6J50Xc4Bz"
      }
    },
    {
      "cell_type": "code",
      "source": [
        "torch.matmul(tensor,  tensor)"
      ],
      "metadata": {
        "colab": {
          "base_uri": "https://localhost:8080/"
        },
        "id": "e_csd3LodAQr",
        "outputId": "4685bbd9-9873-48f8-af55-49189647b4bf"
      },
      "execution_count": null,
      "outputs": [
        {
          "output_type": "execute_result",
          "data": {
            "text/plain": [
              "tensor(14)"
            ]
          },
          "metadata": {},
          "execution_count": 14
        }
      ]
    },
    {
      "cell_type": "code",
      "source": [
        "tensor1 = torch.rand(size=(3,2))\n",
        "print(f\"TENSOR 1 = {tensor1}, SIZE = {tensor1.shape}\")\n",
        "tensor2 = torch.rand(size=(3,2))\n",
        "print(f\"TENSOR 2 = {tensor2}, SIZE = {tensor2.shape}\")"
      ],
      "metadata": {
        "colab": {
          "base_uri": "https://localhost:8080/"
        },
        "id": "_IprcDDidH_H",
        "outputId": "b5da5242-9f54-454b-f911-496af881c943"
      },
      "execution_count": null,
      "outputs": [
        {
          "output_type": "stream",
          "name": "stdout",
          "text": [
            "TENSOR 1 = tensor([[0.0408, 0.8899],\n",
            "        [0.2656, 0.0217],\n",
            "        [0.4556, 0.6591]]), SIZE = torch.Size([3, 2])\n",
            "TENSOR 2 = tensor([[0.0834, 0.9965],\n",
            "        [0.6408, 0.7315],\n",
            "        [0.7961, 0.7251]]), SIZE = torch.Size([3, 2])\n"
          ]
        }
      ]
    },
    {
      "cell_type": "code",
      "source": [
        "# error cause inner dimension don't match\n",
        "torch.matmul(tensor1, tensor2)"
      ],
      "metadata": {
        "id": "1RbtsabEg2m8"
      },
      "execution_count": null,
      "outputs": []
    },
    {
      "cell_type": "markdown",
      "source": [
        "Transpose a tensor (use `.T` )"
      ],
      "metadata": {
        "id": "x--w983Cg-_L"
      }
    },
    {
      "cell_type": "code",
      "source": [
        "tensor2.T, tensor2.T.shape"
      ],
      "metadata": {
        "colab": {
          "base_uri": "https://localhost:8080/"
        },
        "id": "pdzoevFwhOZk",
        "outputId": "095c54e3-de72-4214-c68e-d483c20364a3"
      },
      "execution_count": null,
      "outputs": [
        {
          "output_type": "execute_result",
          "data": {
            "text/plain": [
              "(tensor([[0.2249, 0.5378, 0.0890],\n",
              "         [0.1749, 0.3781, 0.1282]]),\n",
              " torch.Size([2, 3]))"
            ]
          },
          "metadata": {},
          "execution_count": 25
        }
      ]
    },
    {
      "cell_type": "code",
      "source": [
        "torch.matmul(tensor1, tensor2.T)"
      ],
      "metadata": {
        "colab": {
          "base_uri": "https://localhost:8080/"
        },
        "id": "OVRtgqSGhSP4",
        "outputId": "e214ac48-8337-4fef-8cce-c1ffe3eb0331"
      },
      "execution_count": null,
      "outputs": [
        {
          "output_type": "execute_result",
          "data": {
            "text/plain": [
              "tensor([[0.1937, 0.4429, 0.1063],\n",
              "        [0.1888, 0.4190, 0.1225],\n",
              "        [0.1625, 0.3716, 0.0890]])"
            ]
          },
          "metadata": {},
          "execution_count": 24
        }
      ]
    },
    {
      "cell_type": "markdown",
      "source": [
        "## Finiding min, max, mean, sum, etc"
      ],
      "metadata": {
        "id": "4oN0o1YFiB9u"
      }
    },
    {
      "cell_type": "code",
      "source": [
        "x = torch.arange(0, 100, 10)\n",
        "x"
      ],
      "metadata": {
        "colab": {
          "base_uri": "https://localhost:8080/"
        },
        "id": "wJ3UpfODrFiB",
        "outputId": "c951985d-37c7-462b-aad6-5f7d082726de"
      },
      "execution_count": null,
      "outputs": [
        {
          "output_type": "execute_result",
          "data": {
            "text/plain": [
              "tensor([ 0, 10, 20, 30, 40, 50, 60, 70, 80, 90])"
            ]
          },
          "metadata": {},
          "execution_count": 28
        }
      ]
    },
    {
      "cell_type": "code",
      "source": [
        "# Find Min\n",
        "x.min(), torch.min(x)"
      ],
      "metadata": {
        "colab": {
          "base_uri": "https://localhost:8080/"
        },
        "id": "e1rhkUyEraBM",
        "outputId": "97d7a831-49be-4a85-99bf-a29a1126a050"
      },
      "execution_count": null,
      "outputs": [
        {
          "output_type": "execute_result",
          "data": {
            "text/plain": [
              "(tensor(0), tensor(0))"
            ]
          },
          "metadata": {},
          "execution_count": 30
        }
      ]
    },
    {
      "cell_type": "code",
      "source": [
        "# Find Max\n",
        "x.max(), torch.max(x)"
      ],
      "metadata": {
        "colab": {
          "base_uri": "https://localhost:8080/"
        },
        "id": "7uhCZUDsrj9x",
        "outputId": "4425f150-2196-478a-ecbc-684084ceac7d"
      },
      "execution_count": null,
      "outputs": [
        {
          "output_type": "execute_result",
          "data": {
            "text/plain": [
              "(tensor(90), tensor(90))"
            ]
          },
          "metadata": {},
          "execution_count": 32
        }
      ]
    },
    {
      "cell_type": "code",
      "source": [
        "# Find Mean (torach.mean() require tensor of float32 dtype)\n",
        "x.type(torch.float32).mean(), x.type(torch.float32).mean()"
      ],
      "metadata": {
        "colab": {
          "base_uri": "https://localhost:8080/"
        },
        "id": "qYidi58UrrQ4",
        "outputId": "ae7b6d4a-81d5-49df-fd77-1b5292ef7608"
      },
      "execution_count": null,
      "outputs": [
        {
          "output_type": "execute_result",
          "data": {
            "text/plain": [
              "(tensor(45.), tensor(45.))"
            ]
          },
          "metadata": {},
          "execution_count": 35
        }
      ]
    },
    {
      "cell_type": "code",
      "source": [
        "# Find Sum\n",
        "x.sum(), torch.sum(x)"
      ],
      "metadata": {
        "colab": {
          "base_uri": "https://localhost:8080/"
        },
        "id": "o2sLSoJ-r6UU",
        "outputId": "c6c9add5-b12d-4c23-f763-8711e355fe8e"
      },
      "execution_count": null,
      "outputs": [
        {
          "output_type": "execute_result",
          "data": {
            "text/plain": [
              "(tensor(450), tensor(450))"
            ]
          },
          "metadata": {},
          "execution_count": 36
        }
      ]
    },
    {
      "cell_type": "markdown",
      "source": [
        "## Positional Min/Max"
      ],
      "metadata": {
        "id": "uxYiYfSBsmNK"
      }
    },
    {
      "cell_type": "code",
      "source": [
        "# create a tensor\n",
        "tensor = torch.arange(0, 100, 10)\n",
        "print(f\"Tensor : {tensor}\")\n",
        "\n",
        "# return index of Min, Max\n",
        "print(f\"Index of Min : {tensor.argmin()}\")\n",
        "print(f\"Index of Max : {tensor.argmax()}\")"
      ],
      "metadata": {
        "colab": {
          "base_uri": "https://localhost:8080/"
        },
        "id": "tvGrMf2kwBsH",
        "outputId": "191457d4-4520-4b1f-fffb-fea0cb41934e"
      },
      "execution_count": null,
      "outputs": [
        {
          "output_type": "stream",
          "name": "stdout",
          "text": [
            "Tensor : tensor([ 0, 10, 20, 30, 40, 50, 60, 70, 80, 90])\n",
            "Index of Min : 0\n",
            "Index of Max : 9\n"
          ]
        }
      ]
    },
    {
      "cell_type": "markdown",
      "source": [
        "## Reshaping, stacking, squeezing, unsqueezing tensors\n",
        "\n",
        "- reshape = reshapes an input tensor to a defined shape\n",
        "- view = return a view of input tensor of cerain shape but keeps the same memory as the original tensor\n",
        "- stacking - concat squence of ternsor along new dimension `(vstack, hstack)` also available\n",
        "- squeeze = removes all `1` dimensions from a tensor\n",
        "- unsqueeze = add a `1` dimenstion to target tensor\n",
        "- Permute = return a view of the input with dimension permuted (swapped) in a ceratin way"
      ],
      "metadata": {
        "id": "VFGFrd-7y-Hj"
      }
    },
    {
      "cell_type": "code",
      "source": [
        "# create a tensor\n",
        "x = torch.arange(1., 10.)\n",
        "x, x.shape"
      ],
      "metadata": {
        "colab": {
          "base_uri": "https://localhost:8080/"
        },
        "id": "YJwoOuVkzFTU",
        "outputId": "96c34841-7676-4a83-83db-007138dd657d"
      },
      "execution_count": null,
      "outputs": [
        {
          "output_type": "execute_result",
          "data": {
            "text/plain": [
              "(tensor([1., 2., 3., 4., 5., 6., 7., 8., 9.]), torch.Size([9]))"
            ]
          },
          "metadata": {},
          "execution_count": 10
        }
      ]
    },
    {
      "cell_type": "code",
      "source": [
        "# Add extra dimension (reshape)\n",
        "x_reshaped = x.reshape(3,3) # (1,9), (9,1)\n",
        "x_reshaped, x_reshaped.shape"
      ],
      "metadata": {
        "colab": {
          "base_uri": "https://localhost:8080/"
        },
        "id": "GAVdP8BN0HIz",
        "outputId": "16c9ec03-723f-4aab-87d4-53f7bc73f9f7"
      },
      "execution_count": null,
      "outputs": [
        {
          "output_type": "execute_result",
          "data": {
            "text/plain": [
              "(tensor([[1., 2., 3.],\n",
              "         [4., 5., 6.],\n",
              "         [7., 8., 9.]]),\n",
              " torch.Size([3, 3]))"
            ]
          },
          "metadata": {},
          "execution_count": 13
        }
      ]
    },
    {
      "cell_type": "code",
      "source": [
        "# Change the view\n",
        "z = x.view(1,9)\n",
        "z, z.shape"
      ],
      "metadata": {
        "colab": {
          "base_uri": "https://localhost:8080/"
        },
        "id": "JGU2cIPU0lxq",
        "outputId": "bc04e870-893e-4bf9-ce2c-1cdfde665eb4"
      },
      "execution_count": null,
      "outputs": [
        {
          "output_type": "execute_result",
          "data": {
            "text/plain": [
              "(tensor([[1., 2., 3., 4., 5., 6., 7., 8., 9.]]), torch.Size([1, 9]))"
            ]
          },
          "metadata": {},
          "execution_count": 14
        }
      ]
    },
    {
      "cell_type": "code",
      "source": [
        "# chaging z cahnges x (because both point to same memory)\n",
        "z[:, 0] = 5\n",
        "z, x"
      ],
      "metadata": {
        "colab": {
          "base_uri": "https://localhost:8080/"
        },
        "id": "2GebFnm-1k6t",
        "outputId": "07166b3f-2a0d-432b-d02c-104067f6ad0f"
      },
      "execution_count": null,
      "outputs": [
        {
          "output_type": "execute_result",
          "data": {
            "text/plain": [
              "(tensor([[5., 2., 3., 4., 5., 6., 7., 8., 9.]]),\n",
              " tensor([5., 2., 3., 4., 5., 6., 7., 8., 9.]))"
            ]
          },
          "metadata": {},
          "execution_count": 15
        }
      ]
    },
    {
      "cell_type": "code",
      "source": [
        "# Stack tesnors on top of each other\n",
        "x_stack = torch.stack([x, x, x, x], dim=0)\n",
        "x_stack"
      ],
      "metadata": {
        "colab": {
          "base_uri": "https://localhost:8080/"
        },
        "id": "Z7n4rv-R1x27",
        "outputId": "32525284-2a90-425a-f709-591ca68b8bbe"
      },
      "execution_count": null,
      "outputs": [
        {
          "output_type": "execute_result",
          "data": {
            "text/plain": [
              "tensor([[5., 2., 3., 4., 5., 6., 7., 8., 9.],\n",
              "        [5., 2., 3., 4., 5., 6., 7., 8., 9.],\n",
              "        [5., 2., 3., 4., 5., 6., 7., 8., 9.],\n",
              "        [5., 2., 3., 4., 5., 6., 7., 8., 9.]])"
            ]
          },
          "metadata": {},
          "execution_count": 21
        }
      ]
    },
    {
      "cell_type": "code",
      "source": [
        "v_stack = torch.vstack((x, x))\n",
        "v_stack"
      ],
      "metadata": {
        "colab": {
          "base_uri": "https://localhost:8080/"
        },
        "id": "LmueoHqF2ULG",
        "outputId": "ef15eed4-7891-420d-80df-f2a38b5212fd"
      },
      "execution_count": null,
      "outputs": [
        {
          "output_type": "execute_result",
          "data": {
            "text/plain": [
              "tensor([[5., 2., 3., 4., 5., 6., 7., 8., 9.],\n",
              "        [5., 2., 3., 4., 5., 6., 7., 8., 9.]])"
            ]
          },
          "metadata": {},
          "execution_count": 22
        }
      ]
    },
    {
      "cell_type": "code",
      "source": [
        "h_stack = torch.hstack((x, x))\n",
        "h_stack"
      ],
      "metadata": {
        "colab": {
          "base_uri": "https://localhost:8080/"
        },
        "id": "FsSUZXtQ2UGR",
        "outputId": "12eac67d-acc7-4e99-f5c5-d00fda16dc5b"
      },
      "execution_count": null,
      "outputs": [
        {
          "output_type": "execute_result",
          "data": {
            "text/plain": [
              "tensor([5., 2., 3., 4., 5., 6., 7., 8., 9., 5., 2., 3., 4., 5., 6., 7., 8., 9.])"
            ]
          },
          "metadata": {},
          "execution_count": 23
        }
      ]
    },
    {
      "cell_type": "code",
      "source": [
        "# torch.squeeze() = removes all singel dimensions from tensor\n",
        "a = torch.rand(size=(2,1,3))\n",
        "print(f\"Tensor size = {a.shape}\")\n",
        "a_squeezed = torch.squeeze(a)\n",
        "print(f'Squeezed size = {a_squeezed.shape}')"
      ],
      "metadata": {
        "colab": {
          "base_uri": "https://localhost:8080/"
        },
        "id": "kKKTczkf2T7h",
        "outputId": "2fba56fc-8d50-491d-811a-76af203f5625"
      },
      "execution_count": null,
      "outputs": [
        {
          "output_type": "stream",
          "name": "stdout",
          "text": [
            "Tensor size = torch.Size([2, 1, 3])\n",
            "Squeezed size = torch.Size([2, 3])\n"
          ]
        }
      ]
    },
    {
      "cell_type": "code",
      "source": [
        "# torch.unsqueeze() = return new tensor with dimension of size one inserted at the specified postion\n",
        "a_unsqueezez = torch.unsqueeze(a_squeezed,1)\n",
        "print(f\"Unsqueezed size = {a_unsqueezez.shape}\")"
      ],
      "metadata": {
        "colab": {
          "base_uri": "https://localhost:8080/"
        },
        "id": "QytLpdBX24bk",
        "outputId": "06822f02-2590-4f84-84c6-ff629f252e59"
      },
      "execution_count": null,
      "outputs": [
        {
          "output_type": "stream",
          "name": "stdout",
          "text": [
            "Unsqueezed size = torch.Size([2, 1, 3])\n"
          ]
        }
      ]
    },
    {
      "cell_type": "code",
      "source": [
        "# torch.permute() = return view of original tensor with dimensino permuted\n",
        "test_img = torch.rand(size=(224, 224, 3)) # [h, w, Channel]\n",
        "print(f\"IMG dim : {test_img.shape}\")\n",
        "\n",
        "# permute/rearrange tensor's axis/dim\n",
        "alt_img = torch.permute(test_img, (2,0,1)) # [Channel, h, w]\n",
        "print(f\"Alt img dim : {alt_img.shape}\")"
      ],
      "metadata": {
        "colab": {
          "base_uri": "https://localhost:8080/"
        },
        "id": "1UWEtn1G24Y6",
        "outputId": "8307ff34-31ed-43e5-d4c9-d691eb14d84f"
      },
      "execution_count": null,
      "outputs": [
        {
          "output_type": "stream",
          "name": "stdout",
          "text": [
            "IMG dim : torch.Size([224, 224, 3])\n",
            "Alt img dim : torch.Size([3, 224, 224])\n"
          ]
        }
      ]
    },
    {
      "cell_type": "code",
      "source": [
        "# since permute use view, altering new img will alter original as well\n",
        "print('BEFORE')\n",
        "print(f\"test val alt img : {alt_img[0, 0, 0]}\")\n",
        "print(f\"test val org img : {test_img[0, 0, 0]}\")\n",
        "\n",
        "print(\"AFTER\")\n",
        "alt_img[0, 0, 0] = 1\n",
        "print(f\"test val alt img : {alt_img[0, 0, 0]}\")\n",
        "print(f\"test val org img : {test_img[0, 0, 0]}\")"
      ],
      "metadata": {
        "colab": {
          "base_uri": "https://localhost:8080/"
        },
        "id": "p2Hl6Es624Tj",
        "outputId": "e9ec3a7d-c8c9-4cc5-a554-9f5eb195c11f"
      },
      "execution_count": null,
      "outputs": [
        {
          "output_type": "stream",
          "name": "stdout",
          "text": [
            "BEFORE\n",
            "test val alt img : 0.5624673962593079\n",
            "test val org img : 0.5624673962593079\n",
            "AFTER\n",
            "test val alt img : 1.0\n",
            "test val org img : 1.0\n"
          ]
        }
      ]
    },
    {
      "cell_type": "code",
      "source": [],
      "metadata": {
        "id": "AHXD-x2424Qr"
      },
      "execution_count": null,
      "outputs": []
    },
    {
      "cell_type": "markdown",
      "source": [
        "## Change tensor Datatype"
      ],
      "metadata": {
        "id": "u8Sj5QchwZn2"
      }
    },
    {
      "cell_type": "markdown",
      "source": [
        "to change datatype of tensor use `torch.Tensor.type(dtype-None)` where `dtype` parameter is the datatype you'd like to use"
      ],
      "metadata": {
        "id": "4pIJ8ksixRDB"
      }
    },
    {
      "cell_type": "code",
      "source": [
        "# Create a tensor\n",
        "tensor = torch.arange(0, 100, 10)\n",
        "tensor.dtype"
      ],
      "metadata": {
        "colab": {
          "base_uri": "https://localhost:8080/"
        },
        "id": "zlDhzXgjyQWX",
        "outputId": "c9483882-cd0c-4d97-bb90-e04c17695fc5"
      },
      "execution_count": null,
      "outputs": [
        {
          "output_type": "execute_result",
          "data": {
            "text/plain": [
              "torch.int64"
            ]
          },
          "metadata": {},
          "execution_count": 2
        }
      ]
    },
    {
      "cell_type": "code",
      "source": [
        "tensor_float32 = tensor.type(torch.float32)\n",
        "tensor_float32.dtype"
      ],
      "metadata": {
        "id": "WxfIex9xydfZ",
        "colab": {
          "base_uri": "https://localhost:8080/"
        },
        "outputId": "e8475b5f-8665-4d3c-802e-8e56f3a0fa79"
      },
      "execution_count": null,
      "outputs": [
        {
          "output_type": "execute_result",
          "data": {
            "text/plain": [
              "torch.float32"
            ]
          },
          "metadata": {},
          "execution_count": 3
        }
      ]
    },
    {
      "cell_type": "markdown",
      "source": [
        "## Indexing"
      ],
      "metadata": {
        "id": "OCEoZWV46uV4"
      }
    },
    {
      "cell_type": "code",
      "source": [
        "# create a tensor\n",
        "x = torch.arange(1,10).reshape(1,3,3)\n",
        "x, x.shape"
      ],
      "metadata": {
        "colab": {
          "base_uri": "https://localhost:8080/"
        },
        "id": "8z1AsWj_7BHo",
        "outputId": "0ce2252c-f6d5-4954-8577-8d9fa5aef956"
      },
      "execution_count": null,
      "outputs": [
        {
          "output_type": "execute_result",
          "data": {
            "text/plain": [
              "(tensor([[[1, 2, 3],\n",
              "          [4, 5, 6],\n",
              "          [7, 8, 9]]]),\n",
              " torch.Size([1, 3, 3]))"
            ]
          },
          "metadata": {},
          "execution_count": 4
        }
      ]
    },
    {
      "cell_type": "code",
      "source": [
        "print(f\"1st square bracket: {x[0]}\")\n",
        "print(f\"2nd square bracket: {x[0][0]}\")\n",
        "print(f\"3rd square bracket: {x[0][0][0]}\")"
      ],
      "metadata": {
        "colab": {
          "base_uri": "https://localhost:8080/"
        },
        "id": "wHCl6He-7KHX",
        "outputId": "9f1020b3-5ae4-498b-b98a-42e03f9530c4"
      },
      "execution_count": null,
      "outputs": [
        {
          "output_type": "stream",
          "name": "stdout",
          "text": [
            "1st square bracket: tensor([[1, 2, 3],\n",
            "        [4, 5, 6],\n",
            "        [7, 8, 9]])\n",
            "2nd square bracket: tensor([1, 2, 3])\n",
            "3rd square bracket: 1\n"
          ]
        }
      ]
    },
    {
      "cell_type": "code",
      "source": [
        "x[:, 0, 0]"
      ],
      "metadata": {
        "colab": {
          "base_uri": "https://localhost:8080/"
        },
        "id": "_IQjnZ-y7naa",
        "outputId": "a341fbb8-efd9-43e7-a031-c8cc85e17cec"
      },
      "execution_count": null,
      "outputs": [
        {
          "output_type": "execute_result",
          "data": {
            "text/plain": [
              "tensor([1])"
            ]
          },
          "metadata": {},
          "execution_count": 7
        }
      ]
    },
    {
      "cell_type": "markdown",
      "source": [
        "## PyTorch tensors & NumPy"
      ],
      "metadata": {
        "id": "k-LWplXT7zG8"
      }
    },
    {
      "cell_type": "markdown",
      "source": [
        "- numpy-array to pytorch-tensor `torch.from_numpy(ndarray)`\n",
        "- pytorch-tensor to numpy-array `torch.Tensor.numpy()`"
      ],
      "metadata": {
        "id": "r0pPmqzD8U31"
      }
    },
    {
      "cell_type": "code",
      "source": [
        "# NumPy to Tensor\n",
        "arr = np.arange(1., 8.)\n",
        "# when converting from numpy -> pytorch, pytorch reflect numpy default dype (float64) insted of tensor defatult (float32)\n",
        "# use `.type(torch.float64)` to change dtype\n",
        "tensor = torch.from_numpy(arr)\n",
        "arr, tensor"
      ],
      "metadata": {
        "colab": {
          "base_uri": "https://localhost:8080/"
        },
        "id": "D4utNhAHIIDb",
        "outputId": "c1183b06-b6b0-49ba-8b6d-f8548ec22a14"
      },
      "execution_count": 5,
      "outputs": [
        {
          "output_type": "execute_result",
          "data": {
            "text/plain": [
              "(array([1., 2., 3., 4., 5., 6., 7.]),\n",
              " tensor([1., 2., 3., 4., 5., 6., 7.], dtype=torch.float64))"
            ]
          },
          "metadata": {},
          "execution_count": 5
        }
      ]
    },
    {
      "cell_type": "code",
      "source": [
        "# Tensor to NumPy\n",
        "tensor = torch.ones(7)\n",
        "# when converting from pytorch -> numpy, tensor defatult (float32) is converted\n",
        "# use `.astype('float64')` to change dtype\n",
        "numpy_tensor = tensor.numpy()\n",
        "tensor, numpy_tensor"
      ],
      "metadata": {
        "colab": {
          "base_uri": "https://localhost:8080/"
        },
        "id": "_mxqb1l4IUy4",
        "outputId": "dbbe9cac-b7b7-4ef4-92b9-1d09142aa476"
      },
      "execution_count": 11,
      "outputs": [
        {
          "output_type": "execute_result",
          "data": {
            "text/plain": [
              "(tensor([1., 1., 1., 1., 1., 1., 1.]),\n",
              " array([1., 1., 1., 1., 1., 1., 1.], dtype=float32))"
            ]
          },
          "metadata": {},
          "execution_count": 11
        }
      ]
    },
    {
      "cell_type": "markdown",
      "source": [
        "## Reproducibility (removing randomness)"
      ],
      "metadata": {
        "id": "RgcTCzODJJOU"
      }
    },
    {
      "cell_type": "code",
      "source": [
        "rand_tensor1 = torch.rand(3,4)\n",
        "rand_tensor2 = torch.rand(3,4)\n",
        "print(f\"TENSOR 1 : {rand_tensor1}\")\n",
        "print(f\"TENSOR 2 : {rand_tensor2}\")\n",
        "rand_tensor1 == rand_tensor2"
      ],
      "metadata": {
        "colab": {
          "base_uri": "https://localhost:8080/"
        },
        "id": "u1LbPA-iKf-E",
        "outputId": "404eb023-12de-4e83-ea27-da78a2265588"
      },
      "execution_count": 13,
      "outputs": [
        {
          "output_type": "stream",
          "name": "stdout",
          "text": [
            "TENSOR 1 : tensor([[0.3102, 0.6571, 0.6645, 0.3201],\n",
            "        [0.3029, 0.7793, 0.4945, 0.2251],\n",
            "        [0.5848, 0.9696, 0.0385, 0.4143]])\n",
            "TENSOR 2 : tensor([[0.6848, 0.7071, 0.5811, 0.3883],\n",
            "        [0.5809, 0.7926, 0.4386, 0.8278],\n",
            "        [0.7402, 0.6084, 0.1933, 0.2618]])\n"
          ]
        },
        {
          "output_type": "execute_result",
          "data": {
            "text/plain": [
              "tensor([[False, False, False, False],\n",
              "        [False, False, False, False],\n",
              "        [False, False, False, False]])"
            ]
          },
          "metadata": {},
          "execution_count": 13
        }
      ]
    },
    {
      "cell_type": "code",
      "source": [
        "import torch\n",
        "import random\n",
        "\n",
        "# set random seed\n",
        "RANDOM_SEED = 42\n",
        "\n",
        "torch.manual_seed(seed=RANDOM_SEED)\n",
        "rand_tensorA = torch.rand(3,4)\n",
        "\n",
        "# have to reset the seed everytime a new rand() is called\n",
        "torch.manual_seed(seed=RANDOM_SEED)\n",
        "rand_tensorB = torch.rand(3,4)\n",
        "\n",
        "print(f\"TENSOR 1 : {rand_tensorA}\")\n",
        "print(f\"TENSOR 2 : {rand_tensorB}\")\n",
        "print(rand_tensorA == rand_tensorB)"
      ],
      "metadata": {
        "colab": {
          "base_uri": "https://localhost:8080/"
        },
        "id": "OQIwdnKOK_vz",
        "outputId": "baf7e352-f95f-4349-eaa8-fcfd73964227"
      },
      "execution_count": 17,
      "outputs": [
        {
          "output_type": "stream",
          "name": "stdout",
          "text": [
            "TENSOR 1 : tensor([[0.8823, 0.9150, 0.3829, 0.9593],\n",
            "        [0.3904, 0.6009, 0.2566, 0.7936],\n",
            "        [0.9408, 0.1332, 0.9346, 0.5936]])\n",
            "TENSOR 2 : tensor([[0.8823, 0.9150, 0.3829, 0.9593],\n",
            "        [0.3904, 0.6009, 0.2566, 0.7936],\n",
            "        [0.9408, 0.1332, 0.9346, 0.5936]])\n",
            "tensor([[True, True, True, True],\n",
            "        [True, True, True, True],\n",
            "        [True, True, True, True]])\n"
          ]
        }
      ]
    },
    {
      "cell_type": "markdown",
      "source": [
        "## Running tensor on GPU"
      ],
      "metadata": {
        "id": "Ijzhq8i8NZUQ"
      }
    },
    {
      "cell_type": "code",
      "source": [
        "!nvidia-smi"
      ],
      "metadata": {
        "colab": {
          "base_uri": "https://localhost:8080/"
        },
        "id": "kpCEvPFnQWAE",
        "outputId": "d7f6ab1e-035f-4ba1-b9d9-1b8f6f0d8e37"
      },
      "execution_count": 1,
      "outputs": [
        {
          "output_type": "stream",
          "name": "stdout",
          "text": [
            "Sat Sep 30 18:07:50 2023       \n",
            "+-----------------------------------------------------------------------------+\n",
            "| NVIDIA-SMI 525.105.17   Driver Version: 525.105.17   CUDA Version: 12.0     |\n",
            "|-------------------------------+----------------------+----------------------+\n",
            "| GPU  Name        Persistence-M| Bus-Id        Disp.A | Volatile Uncorr. ECC |\n",
            "| Fan  Temp  Perf  Pwr:Usage/Cap|         Memory-Usage | GPU-Util  Compute M. |\n",
            "|                               |                      |               MIG M. |\n",
            "|===============================+======================+======================|\n",
            "|   0  Tesla T4            Off  | 00000000:00:04.0 Off |                    0 |\n",
            "| N/A   51C    P8    12W /  70W |      0MiB / 15360MiB |      0%      Default |\n",
            "|                               |                      |                  N/A |\n",
            "+-------------------------------+----------------------+----------------------+\n",
            "                                                                               \n",
            "+-----------------------------------------------------------------------------+\n",
            "| Processes:                                                                  |\n",
            "|  GPU   GI   CI        PID   Type   Process name                  GPU Memory |\n",
            "|        ID   ID                                                   Usage      |\n",
            "|=============================================================================|\n",
            "|  No running processes found                                                 |\n",
            "+-----------------------------------------------------------------------------+\n"
          ]
        }
      ]
    },
    {
      "cell_type": "markdown",
      "source": [
        "### Check for GPU"
      ],
      "metadata": {
        "id": "l-hyywmeTXin"
      }
    },
    {
      "cell_type": "code",
      "source": [
        "# Check for GPU\n",
        "import torch\n",
        "print(torch.cuda.is_available())\n",
        "print(torch.cuda.device_count())"
      ],
      "metadata": {
        "colab": {
          "base_uri": "https://localhost:8080/"
        },
        "id": "LHNknR0GRXnO",
        "outputId": "5d3aa4a8-928e-4885-89b8-384bf8cfc86e"
      },
      "execution_count": 9,
      "outputs": [
        {
          "output_type": "stream",
          "name": "stdout",
          "text": [
            "True\n",
            "1\n"
          ]
        }
      ]
    },
    {
      "cell_type": "markdown",
      "source": [
        "### Setup device agnostic code"
      ],
      "metadata": {
        "id": "Qh5kB1T0TVfN"
      }
    },
    {
      "cell_type": "code",
      "source": [
        "# Setup device agnostic code\n",
        "device = 'cuda' if torch.cuda.is_available() else 'cpu'\n",
        "device"
      ],
      "metadata": {
        "colab": {
          "base_uri": "https://localhost:8080/",
          "height": 35
        },
        "id": "Ktft23GbSU_S",
        "outputId": "0be68b87-312d-4fbc-9a85-246c560d238a"
      },
      "execution_count": 6,
      "outputs": [
        {
          "output_type": "execute_result",
          "data": {
            "text/plain": [
              "'cuda'"
            ],
            "application/vnd.google.colaboratory.intrinsic+json": {
              "type": "string"
            }
          },
          "metadata": {},
          "execution_count": 6
        }
      ]
    },
    {
      "cell_type": "markdown",
      "source": [
        "### Putting tensors (and models) on the GPU\n",
        " - use `.to(target_devie)`"
      ],
      "metadata": {
        "id": "on31ZCDTTZm4"
      }
    },
    {
      "cell_type": "code",
      "source": [
        "# create a tensor\n",
        "tensor = torch.tensor([1, 2, 3])\n",
        "\n",
        "# tensor not on GPU\n",
        "print(tensor, tensor.device)"
      ],
      "metadata": {
        "colab": {
          "base_uri": "https://localhost:8080/"
        },
        "id": "XONZFsu8Svyd",
        "outputId": "20b0d54b-dd2d-4bdb-ad69-625ff27cc758"
      },
      "execution_count": 12,
      "outputs": [
        {
          "output_type": "stream",
          "name": "stdout",
          "text": [
            "tensor([1, 2, 3]) cpu\n"
          ]
        }
      ]
    },
    {
      "cell_type": "code",
      "source": [
        "# Move tensor to GPU if available\n",
        "tensor_on_gpu = tensor.to(device)\n",
        "tensor_on_gpu"
      ],
      "metadata": {
        "colab": {
          "base_uri": "https://localhost:8080/"
        },
        "id": "E2CWckA1S88N",
        "outputId": "5459ea72-d06e-474c-f5c6-71ed99b486c0"
      },
      "execution_count": 13,
      "outputs": [
        {
          "output_type": "execute_result",
          "data": {
            "text/plain": [
              "tensor([1, 2, 3], device='cuda:0')"
            ]
          },
          "metadata": {},
          "execution_count": 13
        }
      ]
    },
    {
      "cell_type": "markdown",
      "source": [
        "Notice the second tensor has device=`cuda:0`, this means it's stored on the 0th GPU available (GPUs are 0 indexed, if two GPUs were available, they'd be `cuda:0` and 'cuda:1' respectively, up to `cuda:n`)."
      ],
      "metadata": {
        "id": "YhZf_IyVUaPQ"
      }
    },
    {
      "cell_type": "markdown",
      "source": [
        "### Moving back to CPU"
      ],
      "metadata": {
        "id": "AshzrmJcULfl"
      }
    },
    {
      "cell_type": "code",
      "source": [
        "# if tensor is on GPU, can't transform it to numpy\n",
        "tensor_on_gpu.numpy()"
      ],
      "metadata": {
        "colab": {
          "base_uri": "https://localhost:8080/",
          "height": 210
        },
        "id": "GvCzP2iKUkL3",
        "outputId": "cd7e05c9-2b29-4983-8550-75dc945cfdd4"
      },
      "execution_count": 14,
      "outputs": [
        {
          "output_type": "error",
          "ename": "TypeError",
          "evalue": "ignored",
          "traceback": [
            "\u001b[0;31m---------------------------------------------------------------------------\u001b[0m",
            "\u001b[0;31mTypeError\u001b[0m                                 Traceback (most recent call last)",
            "\u001b[0;32m<ipython-input-14-a00074dd0f38>\u001b[0m in \u001b[0;36m<cell line: 2>\u001b[0;34m()\u001b[0m\n\u001b[1;32m      1\u001b[0m \u001b[0;31m# if tensor is on GPU, can't transform it to numpy\u001b[0m\u001b[0;34m\u001b[0m\u001b[0;34m\u001b[0m\u001b[0m\n\u001b[0;32m----> 2\u001b[0;31m \u001b[0mtensor_on_gpu\u001b[0m\u001b[0;34m.\u001b[0m\u001b[0mnumpy\u001b[0m\u001b[0;34m(\u001b[0m\u001b[0;34m)\u001b[0m\u001b[0;34m\u001b[0m\u001b[0;34m\u001b[0m\u001b[0m\n\u001b[0m",
            "\u001b[0;31mTypeError\u001b[0m: can't convert cuda:0 device type tensor to numpy. Use Tensor.cpu() to copy the tensor to host memory first."
          ]
        }
      ]
    },
    {
      "cell_type": "markdown",
      "source": [
        "Use `Tensor.cpu()` to copy the tensor to host memory first."
      ],
      "metadata": {
        "id": "29RmKwKOVGUn"
      }
    },
    {
      "cell_type": "code",
      "source": [
        "# insted, copy the tensor back to cpu\n",
        "tensor_back_on_cpu = tensor.cpu().numpy()\n",
        "tensor_back_on_cpu"
      ],
      "metadata": {
        "colab": {
          "base_uri": "https://localhost:8080/"
        },
        "id": "79lv82VPUrRh",
        "outputId": "64951eac-ebb7-43ba-9f2b-585c4dfedb93"
      },
      "execution_count": 15,
      "outputs": [
        {
          "output_type": "execute_result",
          "data": {
            "text/plain": [
              "array([1, 2, 3])"
            ]
          },
          "metadata": {},
          "execution_count": 15
        }
      ]
    },
    {
      "cell_type": "code",
      "source": [],
      "metadata": {
        "id": "pz9D5d1TVCkY"
      },
      "execution_count": null,
      "outputs": []
    }
  ]
}