{
  "nbformat": 4,
  "nbformat_minor": 0,
  "metadata": {
    "colab": {
      "provenance": [],
      "gpuType": "T4",
      "authorship_tag": "ABX9TyNal+0gsuB+xeDDhKwSWp3b",
      "include_colab_link": true
    },
    "kernelspec": {
      "name": "python3",
      "display_name": "Python 3"
    },
    "language_info": {
      "name": "python"
    },
    "accelerator": "GPU"
  },
  "cells": [
    {
      "cell_type": "markdown",
      "metadata": {
        "id": "view-in-github",
        "colab_type": "text"
      },
      "source": [
        "<a href=\"https://colab.research.google.com/github/prakhar-luke/pytorch_practice/blob/main/01_pytorch_workflow_fundamentals.ipynb\" target=\"_parent\"><img src=\"https://colab.research.google.com/assets/colab-badge.svg\" alt=\"Open In Colab\"/></a>"
      ]
    },
    {
      "cell_type": "code",
      "execution_count": null,
      "metadata": {
        "id": "qHX0WIfTWdBT",
        "colab": {
          "base_uri": "https://localhost:8080/",
          "height": 35
        },
        "outputId": "0a70797d-ba3e-4af4-d3e9-f2c23005e641"
      },
      "outputs": [
        {
          "output_type": "execute_result",
          "data": {
            "text/plain": [
              "'2.0.1+cu118'"
            ],
            "application/vnd.google.colaboratory.intrinsic+json": {
              "type": "string"
            }
          },
          "metadata": {},
          "execution_count": 1
        }
      ],
      "source": [
        "import torch\n",
        "from torch import nn\n",
        "import matplotlib.pyplot as plt\n",
        "\n",
        "# pyTorch version\n",
        "torch.__version__"
      ]
    },
    {
      "cell_type": "markdown",
      "source": [
        "# what we're covering\n",
        "-    1: \"data (prepare and load)\"\n",
        "-    2: \"build model\"\n",
        "-    3: \"fitting the model to data - (training)\"\n",
        "-    4: \"making predictions and evaluating a model (inference)\"\n",
        "-    5: \"saving and loading a model\"\n",
        "-    6: \"putting it all together\""
      ],
      "metadata": {
        "id": "mxhRyFiZrHqc"
      }
    },
    {
      "cell_type": "markdown",
      "source": [
        "# 1. Data (prepare and load)"
      ],
      "metadata": {
        "id": "e6mJcSs2qSLa"
      }
    },
    {
      "cell_type": "code",
      "source": [
        "# use a liner regression formula to make a straight line with known parameter\n",
        "\n",
        "# Create Known parameters\n",
        "weight = 0.7\n",
        "bias = 0.3\n",
        "\n",
        "# Create data\n",
        "start = 0\n",
        "end = 1\n",
        "step = 0.02\n",
        "X = torch.arange(start, end, step).unsqueeze(dim=1)\n",
        "y = weight*X + bias\n",
        "\n",
        "X[:10], y[:10], len(X), len(y)"
      ],
      "metadata": {
        "colab": {
          "base_uri": "https://localhost:8080/"
        },
        "id": "FaPxrhgqs9TB",
        "outputId": "c1b585d1-90fe-4b76-ecb7-76096c407acb"
      },
      "execution_count": null,
      "outputs": [
        {
          "output_type": "execute_result",
          "data": {
            "text/plain": [
              "(tensor([[0.0000],\n",
              "         [0.0200],\n",
              "         [0.0400],\n",
              "         [0.0600],\n",
              "         [0.0800],\n",
              "         [0.1000],\n",
              "         [0.1200],\n",
              "         [0.1400],\n",
              "         [0.1600],\n",
              "         [0.1800]]),\n",
              " tensor([[0.3000],\n",
              "         [0.3140],\n",
              "         [0.3280],\n",
              "         [0.3420],\n",
              "         [0.3560],\n",
              "         [0.3700],\n",
              "         [0.3840],\n",
              "         [0.3980],\n",
              "         [0.4120],\n",
              "         [0.4260]]),\n",
              " 50,\n",
              " 50)"
            ]
          },
          "metadata": {},
          "execution_count": 2
        }
      ]
    },
    {
      "cell_type": "markdown",
      "source": [
        "## Split data into train & test sets"
      ],
      "metadata": {
        "id": "6JVsaXeZu82H"
      }
    },
    {
      "cell_type": "code",
      "source": [
        "# Create Train and Test sets\n",
        "train_split = int(0.8 * len(X))\n",
        "X_train, y_train = X[:train_split], y[:train_split]\n",
        "X_test, y_test = X[train_split:], y[train_split:]\n",
        "print(len(X_train), len(y_train), len(X_test), len(y_test))"
      ],
      "metadata": {
        "colab": {
          "base_uri": "https://localhost:8080/"
        },
        "id": "DuQEH0s-u8od",
        "outputId": "aade67dd-db93-445f-c407-2a43ac58070b"
      },
      "execution_count": null,
      "outputs": [
        {
          "output_type": "stream",
          "name": "stdout",
          "text": [
            "40 40 10 10\n"
          ]
        }
      ]
    },
    {
      "cell_type": "code",
      "source": [
        "# Visualize it\n",
        "def plot_predictions(train_data = X_train,\n",
        "                     train_labels = y_train,\n",
        "                     test_data = X_test,\n",
        "                     test_labels = y_test,\n",
        "                     predictions = None):\n",
        "  \"\"\"\n",
        "  Plot training data, test data and compare predictions\n",
        "  \"\"\"\n",
        "  plt.figure(figsize=(10,7))\n",
        "\n",
        "  # plot train data in blue\n",
        "  plt.scatter(train_data, train_labels, c='b', s=4, label=\"Training data\")\n",
        "\n",
        "  # plot test data in green\n",
        "  plt.scatter(test_data, test_labels, c='g', s=4, label='Test data')\n",
        "\n",
        "  # plot prediction if they exist\n",
        "  if predictions is not None:\n",
        "    plt.scatter(test_data, predictions, c='r', s=4, label='Predictions')\n",
        "\n",
        "  plt.legend(prop={'size':14});"
      ],
      "metadata": {
        "id": "Q57yZo2Rs9M2"
      },
      "execution_count": null,
      "outputs": []
    },
    {
      "cell_type": "code",
      "source": [
        "plot_predictions()"
      ],
      "metadata": {
        "colab": {
          "base_uri": "https://localhost:8080/",
          "height": 460
        },
        "id": "MzPXaS6Ys84J",
        "outputId": "717a389d-95f4-4a35-dd19-2b8a41e0bb01"
      },
      "execution_count": null,
      "outputs": [
        {
          "output_type": "display_data",
          "data": {
            "text/plain": [
              "<Figure size 1000x700 with 1 Axes>"
            ],
            "image/png": "[encoded data removed]"
          },
          "metadata": {}
        }
      ]
    },
    {
      "cell_type": "markdown",
      "source": [
        "# 2. Build Model"
      ],
      "metadata": {
        "id": "LuBCADC-qSEA"
      }
    },
    {
      "cell_type": "code",
      "source": [
        "# Create linear regressin model class\n",
        "class LinearRegressionModel(nn.Module): # nn.Module contain all the building blocks for NN\n",
        "  def __init__(self):\n",
        "    super().__init__()\n",
        "    # initialize model paramater\n",
        "    # to be used in various computations\n",
        "    self.weights = nn.Parameter(torch.randn(1,\n",
        "                                            requires_grad=True, # means torch will track gradient of this specific paramater for use with torch.autograd\n",
        "                                            dtype=torch.float))\n",
        "    self.bias = nn.Parameter(torch.randn(1,\n",
        "                                         requires_grad = True,\n",
        "                                         dtype=torch.float))\n",
        "\n",
        "    # Fotward method to define the computation in the model\n",
        "    # any subclass of nn.Module needs to override forward()\n",
        "  def forward(self, x: torch.Tensor) -> torch.Tensor: # <- \"x\" is the input data (e.g. training/testing features)\n",
        "      return self.weights * x + self.bias # <- this is the linear regression formula (y = m*x + b)"
      ],
      "metadata": {
        "id": "4dlvAQnB0xw5"
      },
      "execution_count": null,
      "outputs": []
    },
    {
      "cell_type": "markdown",
      "source": [
        "Checking the contents of a pytorch model"
      ],
      "metadata": {
        "id": "X3gpLgvm0xi4"
      }
    },
    {
      "cell_type": "code",
      "source": [
        "# set random seed\n",
        "torch.manual_seed(42)\n",
        "\n",
        "# create an instance of model\n",
        "model_0 = LinearRegressionModel()\n",
        "\n",
        "# Check the nn.Parameter()\n",
        "list(model_0.parameters())"
      ],
      "metadata": {
        "colab": {
          "base_uri": "https://localhost:8080/"
        },
        "id": "AEbYiUhp0xWH",
        "outputId": "277b866e-9a4b-4fde-87af-cff40408e5c3"
      },
      "execution_count": null,
      "outputs": [
        {
          "output_type": "execute_result",
          "data": {
            "text/plain": [
              "[Parameter containing:\n",
              " tensor([0.3367], requires_grad=True),\n",
              " Parameter containing:\n",
              " tensor([0.1288], requires_grad=True)]"
            ]
          },
          "metadata": {},
          "execution_count": 7
        }
      ]
    },
    {
      "cell_type": "code",
      "source": [
        "# list named parameters\n",
        "model_0.state_dict()"
      ],
      "metadata": {
        "colab": {
          "base_uri": "https://localhost:8080/"
        },
        "id": "REa7tpqu0w9I",
        "outputId": "2a365fb3-a0e4-4da5-d68d-f52d95c3c868"
      },
      "execution_count": null,
      "outputs": [
        {
          "output_type": "execute_result",
          "data": {
            "text/plain": [
              "OrderedDict([('weights', tensor([0.3367])), ('bias', tensor([0.1288]))])"
            ]
          },
          "metadata": {},
          "execution_count": 8
        }
      ]
    },
    {
      "cell_type": "markdown",
      "source": [
        "### make prediction with model using `torch.inference_mode()`\n",
        "when passed data to model it run `forward()` function"
      ],
      "metadata": {
        "id": "ql4tPoGOs-Zg"
      }
    },
    {
      "cell_type": "code",
      "source": [
        "# Make predictions with model using `torch.inference_mode()`\n",
        "# it turns off gradient tracking cause right now we're doing inference not\n",
        "# training so we dont' need to keep track of gradient for backpropigation\n",
        "# so for large dataset during inference mode it saves memory hence boosting performance\n",
        "with torch.inference_mode():\n",
        "    y_preds = model_0(X_test)"
      ],
      "metadata": {
        "id": "NRvVE3RH927L"
      },
      "execution_count": null,
      "outputs": []
    },
    {
      "cell_type": "code",
      "source": [
        "y_preds"
      ],
      "metadata": {
        "id": "gF6V2bE4920P",
        "colab": {
          "base_uri": "https://localhost:8080/"
        },
        "outputId": "c0b694ab-7159-4e0c-cca8-bb70de3bccde"
      },
      "execution_count": null,
      "outputs": [
        {
          "output_type": "execute_result",
          "data": {
            "text/plain": [
              "tensor([[0.3982],\n",
              "        [0.4049],\n",
              "        [0.4116],\n",
              "        [0.4184],\n",
              "        [0.4251],\n",
              "        [0.4318],\n",
              "        [0.4386],\n",
              "        [0.4453],\n",
              "        [0.4520],\n",
              "        [0.4588]])"
            ]
          },
          "metadata": {},
          "execution_count": 10
        }
      ]
    },
    {
      "cell_type": "code",
      "source": [
        "y_preds2 = model_0(X_test)\n",
        "y_preds2"
      ],
      "metadata": {
        "colab": {
          "base_uri": "https://localhost:8080/"
        },
        "id": "nUQ784sTuCO_",
        "outputId": "6ad6df86-4433-4942-8d96-76a82590f582"
      },
      "execution_count": null,
      "outputs": [
        {
          "output_type": "execute_result",
          "data": {
            "text/plain": [
              "tensor([[0.3982],\n",
              "        [0.4049],\n",
              "        [0.4116],\n",
              "        [0.4184],\n",
              "        [0.4251],\n",
              "        [0.4318],\n",
              "        [0.4386],\n",
              "        [0.4453],\n",
              "        [0.4520],\n",
              "        [0.4588]], grad_fn=<AddBackward0>)"
            ]
          },
          "metadata": {},
          "execution_count": 11
        }
      ]
    },
    {
      "cell_type": "markdown",
      "source": [
        "`torch.inference_mode()` is a new functionality in PyTorch as of v1.912. It is analogous to `torch.no_grad()`, but it provides better performance by disabling view tracking and version counter bumps. This is particularly useful when you are certain your operations will have no interactions with autograd, such as during model training.\n",
        "\n",
        "When you use `model(X_train)`, PyTorch tracks all the operations performed on the tensors involved in the forward pass of the model. This is necessary for backpropagation, which computes gradients for model parameters for training. However, during inference (i.e., model evaluation), you don’t need gradients or backpropagation.\n",
        "\n",
        "In such cases, using `torch.inference_mode()` can give you a performance boost. It’s preferable to `torch.no_grad()` in all situations where inference mode does not throw a runtime error. So, if you’re just evaluating your model and not training it, using `torch.inference_mode()` with `model(X_train)` can be beneficial.\n",
        "\n",
        "However, please note that `model.eval()` and `torch.no_grad()` or `torch.inference_mode()` serve different purposes. While the latter two disable gradient computation, model.eval() sets the model to evaluation mode, affecting layers like dropout and batch normalization. So, typically, you’d use them together during inference:"
      ],
      "metadata": {
        "id": "nUkzyv8Pvsgn"
      }
    },
    {
      "cell_type": "code",
      "source": [
        "plot_predictions(predictions=y_preds)"
      ],
      "metadata": {
        "id": "E6r2IrFI92xw",
        "colab": {
          "base_uri": "https://localhost:8080/"
        },
        "outputId": "6dbe8826-3d97-47e3-ad31-3023be27532e"
      },
      "execution_count": null,
      "outputs": [
        {
          "output_type": "display_data",
          "data": {
            "text/plain": [
              "<Figure size 1000x700 with 1 Axes>"
            ],
            "image/png": "[encoded data removed]"
          },
          "metadata": {}
        }
      ]
    },
    {
      "cell_type": "markdown",
      "source": [
        "# 3. Train Model"
      ],
      "metadata": {
        "id": "BujGYR9eqR7W"
      }
    },
    {
      "cell_type": "code",
      "source": [
        "# Creating loss function\n",
        "loss_fn = nn.L1Loss()  # MAE (mean absolute error)\n",
        "\n",
        "# Creating optimizer *stochastic gradient descent)\n",
        "optimizer = torch.optim.SGD(params=model_0.parameters(), lr= 0.01)"
      ],
      "metadata": {
        "id": "NkvJYyUf0zLB"
      },
      "execution_count": null,
      "outputs": []
    },
    {
      "cell_type": "markdown",
      "source": [
        "## Creating optimization loop in PyTorch"
      ],
      "metadata": {
        "id": "ABiaROZw0qJe"
      }
    },
    {
      "cell_type": "markdown",
      "source": [
        "### PyTorch Trainig loop\n",
        "1. Forward pass\n",
        "2. Calculate loss\n",
        "3. Zero Gradients optimization\n",
        "4. BackPropagation on loss (**back propagation**)\n",
        "5. Update Optimizer (**gradient descent**)"
      ],
      "metadata": {
        "id": "kyH2Yq2t0vXd"
      }
    },
    {
      "cell_type": "markdown",
      "source": [
        "### PyTorch Testing loop\n",
        "1. Forward pass\n",
        "2. Calculate loss\n",
        "3. Calculate evaluation metrics"
      ],
      "metadata": {
        "id": "tOTRES8c0zGV"
      }
    },
    {
      "cell_type": "code",
      "source": [
        "torch.manual_seed(42)\n",
        "\n",
        "# epoch is one loop through the data\n",
        "epochs = 200\n",
        "\n",
        "# create enpty list to track values\n",
        "epoch_count = []\n",
        "train_loss_values =[]\n",
        "test_loss_values =[]\n",
        "\n",
        "for epoch in range(epochs):\n",
        "  ### TRAINING LOOP\n",
        "\n",
        "  # set model to training mode\n",
        "  model_0.train() # train mode in pytorch sets all parameters the require gradienst to require gradients\n",
        "\n",
        "  # 1. Forward pass\n",
        "  y_pred = model_0(X_train)\n",
        "\n",
        "  # 2. Calculate Loss\n",
        "  loss = loss_fn(y_pred, y_train)\n",
        "\n",
        "  # 3. optimize Zero Gradient\n",
        "  optimizer.zero_grad()\n",
        "\n",
        "  # 4. Back-Propagation\n",
        "  loss.backward()\n",
        "\n",
        "  # 5. Update Optimizer\n",
        "  optimizer.step()\n",
        "\n",
        "  ### TESTING LOOP\n",
        "\n",
        "  # put model in evaluation mode\n",
        "  model_0.eval() # turns off gradient tracking and other settings (dropout, batchnorm etc)\n",
        "\n",
        "  with torch.inference_mode():\n",
        "    # 1. Forward Pass on test data\n",
        "    test_pred = model_0(X_test)  # come in torch.float datatype\n",
        "\n",
        "    # 2. calc loss on test data\n",
        "    test_loss = loss_fn(test_pred, y_test.type(torch.float))  # since test_pred is in torch.float so y_test needs to be converted\n",
        "\n",
        "  # Print out what's happening\n",
        "  if epoch % 10 == 0:\n",
        "    epoch_count.append(epoch)\n",
        "    train_loss_values.append(loss.detach().numpy())\n",
        "    test_loss_values.append(test_loss.detach().numpy())\n",
        "    print(f\"EPOCH : {epoch} | Loss : {loss} | Test Loss : {test_loss}\")\n",
        "    print(model_0.state_dict())\n"
      ],
      "metadata": {
        "colab": {
          "base_uri": "https://localhost:8080/"
        },
        "id": "Mo8oVzgrQuzW",
        "outputId": "b9d4ffc5-5ba7-4035-c483-888ff9715b0f"
      },
      "execution_count": null,
      "outputs": [
        {
          "output_type": "stream",
          "name": "stdout",
          "text": [
            "EPOCH : 0 | Loss : 0.31288138031959534 | Test Loss : 0.48106518387794495\n",
            "OrderedDict([('weights', tensor([0.3406])), ('bias', tensor([0.1388]))])\n",
            "EPOCH : 10 | Loss : 0.1976713240146637 | Test Loss : 0.3463551998138428\n",
            "OrderedDict([('weights', tensor([0.3796])), ('bias', tensor([0.2388]))])\n",
            "EPOCH : 20 | Loss : 0.08908725529909134 | Test Loss : 0.21729660034179688\n",
            "OrderedDict([('weights', tensor([0.4184])), ('bias', tensor([0.3333]))])\n",
            "EPOCH : 30 | Loss : 0.053148526698350906 | Test Loss : 0.14464017748832703\n",
            "OrderedDict([('weights', tensor([0.4512])), ('bias', tensor([0.3768]))])\n",
            "EPOCH : 40 | Loss : 0.04543796554207802 | Test Loss : 0.11360953003168106\n",
            "OrderedDict([('weights', tensor([0.4748])), ('bias', tensor([0.3868]))])\n",
            "EPOCH : 50 | Loss : 0.04167863354086876 | Test Loss : 0.09919948130846024\n",
            "OrderedDict([('weights', tensor([0.4938])), ('bias', tensor([0.3843]))])\n",
            "EPOCH : 60 | Loss : 0.03818932920694351 | Test Loss : 0.08886633068323135\n",
            "OrderedDict([('weights', tensor([0.5116])), ('bias', tensor([0.3788]))])\n",
            "EPOCH : 70 | Loss : 0.03476089984178543 | Test Loss : 0.0805937647819519\n",
            "OrderedDict([('weights', tensor([0.5288])), ('bias', tensor([0.3718]))])\n",
            "EPOCH : 80 | Loss : 0.03132382780313492 | Test Loss : 0.07232122868299484\n",
            "OrderedDict([('weights', tensor([0.5459])), ('bias', tensor([0.3648]))])\n",
            "EPOCH : 90 | Loss : 0.02788739837706089 | Test Loss : 0.06473556160926819\n",
            "OrderedDict([('weights', tensor([0.5629])), ('bias', tensor([0.3573]))])\n",
            "EPOCH : 100 | Loss : 0.024458957836031914 | Test Loss : 0.05646304413676262\n",
            "OrderedDict([('weights', tensor([0.5800])), ('bias', tensor([0.3503]))])\n",
            "EPOCH : 110 | Loss : 0.021020207554101944 | Test Loss : 0.04819049686193466\n",
            "OrderedDict([('weights', tensor([0.5972])), ('bias', tensor([0.3433]))])\n",
            "EPOCH : 120 | Loss : 0.01758546568453312 | Test Loss : 0.04060482233762741\n",
            "OrderedDict([('weights', tensor([0.6141])), ('bias', tensor([0.3358]))])\n",
            "EPOCH : 130 | Loss : 0.014155393466353416 | Test Loss : 0.03233227878808975\n",
            "OrderedDict([('weights', tensor([0.6313])), ('bias', tensor([0.3288]))])\n",
            "EPOCH : 140 | Loss : 0.010716589167714119 | Test Loss : 0.024059748277068138\n",
            "OrderedDict([('weights', tensor([0.6485])), ('bias', tensor([0.3218]))])\n",
            "EPOCH : 150 | Loss : 0.0072835334576666355 | Test Loss : 0.016474086791276932\n",
            "OrderedDict([('weights', tensor([0.6654])), ('bias', tensor([0.3143]))])\n",
            "EPOCH : 160 | Loss : 0.0038517764769494534 | Test Loss : 0.008201557211577892\n",
            "OrderedDict([('weights', tensor([0.6826])), ('bias', tensor([0.3073]))])\n",
            "EPOCH : 170 | Loss : 0.008932482451200485 | Test Loss : 0.005023092031478882\n",
            "OrderedDict([('weights', tensor([0.6951])), ('bias', tensor([0.2993]))])\n",
            "EPOCH : 180 | Loss : 0.008932482451200485 | Test Loss : 0.005023092031478882\n",
            "OrderedDict([('weights', tensor([0.6951])), ('bias', tensor([0.2993]))])\n",
            "EPOCH : 190 | Loss : 0.008932482451200485 | Test Loss : 0.005023092031478882\n",
            "OrderedDict([('weights', tensor([0.6951])), ('bias', tensor([0.2993]))])\n"
          ]
        }
      ]
    },
    {
      "cell_type": "code",
      "source": [
        "from prompt_toolkit.shortcuts.progress_bar.formatters import Label\n",
        "# Plot the loss curves\n",
        "plt.plot(epoch_count, train_loss_values, label=\"Train Loss\")\n",
        "plt.plot(epoch_count, test_loss_values, label=\"Test Loss\")\n",
        "plt.ylabel(\"Loss\")\n",
        "plt.xlabel(\"Epochs\")\n",
        "plt.legend()"
      ],
      "metadata": {
        "colab": {
          "base_uri": "https://localhost:8080/"
        },
        "id": "wiOm_ib8lddB",
        "outputId": "7478b6d8-0300-4b87-a6b6-4501c402683a"
      },
      "execution_count": null,
      "outputs": [
        {
          "output_type": "execute_result",
          "data": {
            "text/plain": [
              "<matplotlib.legend.Legend at 0x7990f9f480d0>"
            ]
          },
          "metadata": {},
          "execution_count": 15
        },
        {
          "output_type": "display_data",
          "data": {
            "text/plain": [
              "<Figure size 640x480 with 1 Axes>"
            ],
            "image/png": "[encoded data removed]"
          },
          "metadata": {}
        }
      ]
    },
    {
      "cell_type": "markdown",
      "source": [
        "# 4. Making Prediction (inference)\n"
      ],
      "metadata": {
        "id": "9GNSkR36qRx2"
      }
    },
    {
      "cell_type": "code",
      "source": [
        "# set model to evaluation mode\n",
        "model_0.eval()\n",
        "\n",
        "# setup inference mode context manager\n",
        "with torch.inference_mode():\n",
        "  y_pred = model_0(X_test)\n",
        "y_pred"
      ],
      "metadata": {
        "id": "-2GbjvCW0z-q",
        "colab": {
          "base_uri": "https://localhost:8080/"
        },
        "outputId": "98eb0716-2f15-435b-f537-008b0bdb7665"
      },
      "execution_count": null,
      "outputs": [
        {
          "output_type": "execute_result",
          "data": {
            "text/plain": [
              "tensor([[0.8685],\n",
              "        [0.8825],\n",
              "        [0.8965],\n",
              "        [0.9105],\n",
              "        [0.9245],\n",
              "        [0.9384],\n",
              "        [0.9524],\n",
              "        [0.9664],\n",
              "        [0.9804],\n",
              "        [0.9944]])"
            ]
          },
          "metadata": {},
          "execution_count": 16
        }
      ]
    },
    {
      "cell_type": "code",
      "source": [
        "plot_predictions(predictions=y_pred)"
      ],
      "metadata": {
        "id": "WmHElQ250z6i",
        "colab": {
          "base_uri": "https://localhost:8080/"
        },
        "outputId": "ef8a13db-3c12-4ccf-9657-1d9784ea0d58"
      },
      "execution_count": null,
      "outputs": [
        {
          "output_type": "display_data",
          "data": {
            "text/plain": [
              "<Figure size 1000x700 with 1 Axes>"
            ],
            "image/png": "[encoded data removed]"
          },
          "metadata": {}
        }
      ]
    },
    {
      "cell_type": "markdown",
      "source": [
        "# 5. Saving and Loading torch model"
      ],
      "metadata": {
        "id": "X_XuF2RKqRns"
      }
    },
    {
      "cell_type": "markdown",
      "source": [
        "1. `torch.save()` - save PyTorch object in Python's pickle format\n",
        "2. `torch.load()` - load a saved PyTorch object\n",
        "3. `torch.nn.Module.load_state_dict()` - load a model's saved state dictionary"
      ],
      "metadata": {
        "id": "dUjvqGVlRT7j"
      }
    },
    {
      "cell_type": "markdown",
      "source": [
        "## Save PyTorch Model `state_dict()`"
      ],
      "metadata": {
        "id": "dSTyqfUuSlSD"
      }
    },
    {
      "cell_type": "code",
      "source": [
        "from pathlib import Path\n",
        "\n",
        "# 1. create a model dir\n",
        "MODEL_PATH = Path(\"models\")\n",
        "MODEL_PATH.mkdir(parents=True, exist_ok=True)\n",
        "\n",
        "# 2. Create model save path\n",
        "MODEL_NAME = '01_pytorch_workflow_model_0.pth'\n",
        "MODEL_SAVE_PATH = MODEL_PATH / MODEL_NAME\n",
        "\n",
        "MODEL_SAVE_PATH\n",
        "\n",
        "# 3. Save the model state_dict\n",
        "print(f'SAVING MODEL TO {MODEL_SAVE_PATH}')\n",
        "torch.save(obj=model_0.state_dict(), f=MODEL_SAVE_PATH)"
      ],
      "metadata": {
        "colab": {
          "base_uri": "https://localhost:8080/"
        },
        "id": "ruk8tThASsJZ",
        "outputId": "3b770b71-8541-427c-f407-9adbc879668b"
      },
      "execution_count": null,
      "outputs": [
        {
          "output_type": "stream",
          "name": "stdout",
          "text": [
            "SAVING MODEL TO models/01_pytorch_workflow_model_0.pth\n"
          ]
        }
      ]
    },
    {
      "cell_type": "markdown",
      "source": [
        "## Load saved PyTorch Model `load_state_dict()`"
      ],
      "metadata": {
        "id": "-7_vojvhSlMo"
      }
    },
    {
      "cell_type": "code",
      "source": [
        "# to load in a saved state_dict() we have to instantiate a new instance of our model class\n",
        "loaded_model_0 = LinearRegressionModel()\n",
        "\n",
        "# Load the saved state_dict of model_0\n",
        "# (this will update the new instance with updated paramaters)\n",
        "loaded_model_0.load_state_dict(torch.load(f = MODEL_SAVE_PATH))\n"
      ],
      "metadata": {
        "id": "EqqNhJES00kj",
        "colab": {
          "base_uri": "https://localhost:8080/"
        },
        "outputId": "bd3ef5ef-47c7-4525-f1ce-95be61a3ddd6"
      },
      "execution_count": null,
      "outputs": [
        {
          "output_type": "execute_result",
          "data": {
            "text/plain": [
              "<All keys matched successfully>"
            ]
          },
          "metadata": {},
          "execution_count": 19
        }
      ]
    },
    {
      "cell_type": "code",
      "source": [
        "# Make prediction with loaded model\n",
        "loaded_model_0.eval()\n",
        "with torch.inference_mode():\n",
        "  loaded_model_pred = loaded_model_0(X_test)\n",
        "\n",
        "loaded_model_pred"
      ],
      "metadata": {
        "id": "eBJSD6ht00iB",
        "colab": {
          "base_uri": "https://localhost:8080/"
        },
        "outputId": "3ccad08c-36ad-4a01-daad-fd966096ce1c"
      },
      "execution_count": null,
      "outputs": [
        {
          "output_type": "execute_result",
          "data": {
            "text/plain": [
              "tensor([[0.8685],\n",
              "        [0.8825],\n",
              "        [0.8965],\n",
              "        [0.9105],\n",
              "        [0.9245],\n",
              "        [0.9384],\n",
              "        [0.9524],\n",
              "        [0.9664],\n",
              "        [0.9804],\n",
              "        [0.9944]])"
            ]
          },
          "metadata": {},
          "execution_count": 20
        }
      ]
    },
    {
      "cell_type": "code",
      "source": [
        "# Make some models preds\n",
        "model_0.eval()\n",
        "with torch.inference_mode():\n",
        "  y_preds_test = model_0(X_test)\n",
        "y_preds_test"
      ],
      "metadata": {
        "colab": {
          "base_uri": "https://localhost:8080/"
        },
        "id": "K_b67-e8ZvE4",
        "outputId": "bdf42fb5-d548-451b-8e4f-8d3e57034a06"
      },
      "execution_count": null,
      "outputs": [
        {
          "output_type": "execute_result",
          "data": {
            "text/plain": [
              "tensor([[0.8685],\n",
              "        [0.8825],\n",
              "        [0.8965],\n",
              "        [0.9105],\n",
              "        [0.9245],\n",
              "        [0.9384],\n",
              "        [0.9524],\n",
              "        [0.9664],\n",
              "        [0.9804],\n",
              "        [0.9944]])"
            ]
          },
          "metadata": {},
          "execution_count": 21
        }
      ]
    },
    {
      "cell_type": "code",
      "source": [
        "y_preds_test == loaded_model_pred"
      ],
      "metadata": {
        "colab": {
          "base_uri": "https://localhost:8080/"
        },
        "id": "BQKZ_IhYZu_l",
        "outputId": "6a2b4892-4328-48cf-f102-be9688405ea4"
      },
      "execution_count": null,
      "outputs": [
        {
          "output_type": "execute_result",
          "data": {
            "text/plain": [
              "tensor([[True],\n",
              "        [True],\n",
              "        [True],\n",
              "        [True],\n",
              "        [True],\n",
              "        [True],\n",
              "        [True],\n",
              "        [True],\n",
              "        [True],\n",
              "        [True]])"
            ]
          },
          "metadata": {},
          "execution_count": 22
        }
      ]
    },
    {
      "cell_type": "markdown",
      "source": [
        "# 6. Putting it all together"
      ],
      "metadata": {
        "id": "ecHp8__eqRds"
      }
    },
    {
      "cell_type": "code",
      "source": [
        "# Import PyTorch & matplotlib\n",
        "import torch\n",
        "from torch import nn\n",
        "import matplotlib.pyplot as plt\n",
        "\n",
        "# check pytorch version\n",
        "torch.__version__"
      ],
      "metadata": {
        "id": "_CIycv-cq4fv",
        "colab": {
          "base_uri": "https://localhost:8080/",
          "height": 35
        },
        "outputId": "557209c0-1d7e-4a02-a414-4c4ca4f03cc6"
      },
      "execution_count": 1,
      "outputs": [
        {
          "output_type": "execute_result",
          "data": {
            "text/plain": [
              "'2.0.1+cu118'"
            ],
            "application/vnd.google.colaboratory.intrinsic+json": {
              "type": "string"
            }
          },
          "metadata": {},
          "execution_count": 1
        }
      ]
    },
    {
      "cell_type": "code",
      "source": [
        "# setup device\n",
        "device = 'cuda' if torch.cuda.is_available() else 'cpu'\n",
        "print(f'using device : {device}')"
      ],
      "metadata": {
        "id": "4plzTK4s01c-",
        "colab": {
          "base_uri": "https://localhost:8080/"
        },
        "outputId": "6da31aaa-5887-47d1-87c0-494b52b367f7"
      },
      "execution_count": 12,
      "outputs": [
        {
          "output_type": "stream",
          "name": "stdout",
          "text": [
            "using device : cuda\n"
          ]
        }
      ]
    },
    {
      "cell_type": "markdown",
      "source": [
        "## 1. Data"
      ],
      "metadata": {
        "id": "Cfj3mlNL01aq"
      }
    },
    {
      "cell_type": "code",
      "source": [
        "# Create weights and biase\n",
        "weight = 0.7\n",
        "biase = 0.3\n",
        "\n",
        "# create range values\n",
        "start = 0\n",
        "end = 1\n",
        "step = 0.02\n",
        "\n",
        "# create X, y (features , lables)\n",
        "X = torch.arange(start, end, step).unsqueeze(dim=1)\n",
        "y = weight*X + biase\n",
        "X[:10], y[:10]"
      ],
      "metadata": {
        "id": "vqoapZ-301X1",
        "colab": {
          "base_uri": "https://localhost:8080/"
        },
        "outputId": "eecadfe1-79a7-4516-caa8-1a8cdce09af0"
      },
      "execution_count": 3,
      "outputs": [
        {
          "output_type": "execute_result",
          "data": {
            "text/plain": [
              "(tensor([[0.0000],\n",
              "         [0.0200],\n",
              "         [0.0400],\n",
              "         [0.0600],\n",
              "         [0.0800],\n",
              "         [0.1000],\n",
              "         [0.1200],\n",
              "         [0.1400],\n",
              "         [0.1600],\n",
              "         [0.1800]]),\n",
              " tensor([[0.3000],\n",
              "         [0.3140],\n",
              "         [0.3280],\n",
              "         [0.3420],\n",
              "         [0.3560],\n",
              "         [0.3700],\n",
              "         [0.3840],\n",
              "         [0.3980],\n",
              "         [0.4120],\n",
              "         [0.4260]]))"
            ]
          },
          "metadata": {},
          "execution_count": 3
        }
      ]
    },
    {
      "cell_type": "code",
      "source": [
        "# Split data\n",
        "train_split = int(0.8 * len(X))\n",
        "X_train, y_train = X[:train_split], y[:train_split]\n",
        "X_test, y_test = X[train_split:], y[train_split:]\n",
        "\n",
        "len(X_train), len(y_train), len(X_test), len(y_test)"
      ],
      "metadata": {
        "id": "ev3PdUla01VQ",
        "colab": {
          "base_uri": "https://localhost:8080/"
        },
        "outputId": "de577c65-4a0d-4b19-e39d-40ae6f611fba"
      },
      "execution_count": 4,
      "outputs": [
        {
          "output_type": "execute_result",
          "data": {
            "text/plain": [
              "(40, 40, 10, 10)"
            ]
          },
          "metadata": {},
          "execution_count": 4
        }
      ]
    },
    {
      "cell_type": "code",
      "source": [
        "# plot function\n",
        "def plot_pred(train_data = X_train,\n",
        "              train_labels = y_train,\n",
        "              test_data = X_test,\n",
        "              test_labels = y_test,\n",
        "              predictions = None):\n",
        "  plt.figure(figsize=(10,7))\n",
        "  plt.scatter(train_data, train_labels, c='b', s=5, label=\"Training data\")\n",
        "  plt.scatter(test_data, test_labels, c='g', s=5, label=\"Testing data\")\n",
        "  if predictions is not None:\n",
        "    plt.scatter(test_data, predictions, c='r', s=5, label='Prediction')\n",
        "  plt.legend(prop={'size':14});"
      ],
      "metadata": {
        "id": "h5wV7TSA4o4o"
      },
      "execution_count": 5,
      "outputs": []
    },
    {
      "cell_type": "code",
      "source": [
        "plot_pred(X_train, y_train, X_test, y_test)"
      ],
      "metadata": {
        "colab": {
          "base_uri": "https://localhost:8080/",
          "height": 460
        },
        "id": "DuJN9fBf4WTb",
        "outputId": "22a991f4-09d1-4c5a-92c0-e5448354d183"
      },
      "execution_count": 6,
      "outputs": [
        {
          "output_type": "display_data",
          "data": {
            "text/plain": [
              "<Figure size 1000x700 with 1 Axes>"
            ],
            "image/png": "[encoded data removed]"
          },
          "metadata": {}
        }
      ]
    },
    {
      "cell_type": "markdown",
      "source": [
        "## 2. Building PyTorch LinearModel"
      ],
      "metadata": {
        "id": "G_VR8-Qo4mw5"
      }
    },
    {
      "cell_type": "code",
      "source": [
        "class LinearRegressionModelV2(nn.Module):\n",
        "  def __init__(self):\n",
        "    super().__init__()\n",
        "    # nn.Linear() for createing the model parameters\n",
        "    self.linear_layer = nn.Linear(in_features=1, out_features=1)\n",
        "  def forward(self, x:torch.Tensor) -> torch.Tensor:\n",
        "    return self.linear_layer(x)\n",
        "\n",
        "torch.manual_seed(42)\n",
        "model_1 = LinearRegressionModelV2()\n",
        "model_1, model_1.state_dict()"
      ],
      "metadata": {
        "colab": {
          "base_uri": "https://localhost:8080/"
        },
        "id": "46FOJgDR6hP7",
        "outputId": "744ef762-1992-4d22-adda-4e32025d196c"
      },
      "execution_count": 17,
      "outputs": [
        {
          "output_type": "execute_result",
          "data": {
            "text/plain": [
              "(LinearRegressionModelV2(\n",
              "   (linear_layer): Linear(in_features=1, out_features=1, bias=True)\n",
              " ),\n",
              " OrderedDict([('linear_layer.weight', tensor([[0.7645]])),\n",
              "              ('linear_layer.bias', tensor([0.8300]))]))"
            ]
          },
          "metadata": {},
          "execution_count": 17
        }
      ]
    },
    {
      "cell_type": "code",
      "source": [
        "# checking model device\n",
        "next(model_1.parameters()).device"
      ],
      "metadata": {
        "id": "CEO3luHD7V1R",
        "colab": {
          "base_uri": "https://localhost:8080/"
        },
        "outputId": "f28d1427-6a2e-4817-bff9-099a202ce571"
      },
      "execution_count": 18,
      "outputs": [
        {
          "output_type": "execute_result",
          "data": {
            "text/plain": [
              "device(type='cpu')"
            ]
          },
          "metadata": {},
          "execution_count": 18
        }
      ]
    },
    {
      "cell_type": "code",
      "source": [
        "# set model to use the target device\n",
        "model_1.to(device)\n",
        "next(model_1.parameters()).device"
      ],
      "metadata": {
        "colab": {
          "base_uri": "https://localhost:8080/"
        },
        "id": "86-WSbRjHRuu",
        "outputId": "c201f81e-11b2-4163-88d8-8d5019413869"
      },
      "execution_count": 19,
      "outputs": [
        {
          "output_type": "execute_result",
          "data": {
            "text/plain": [
              "device(type='cuda', index=0)"
            ]
          },
          "metadata": {},
          "execution_count": 19
        }
      ]
    },
    {
      "cell_type": "markdown",
      "source": [
        "## 3. Training"
      ],
      "metadata": {
        "id": "-HDkl0wWHbx0"
      }
    },
    {
      "cell_type": "markdown",
      "source": [
        "* loss function\n",
        "* optimizer\n",
        "* training loop\n",
        "* testing loop"
      ],
      "metadata": {
        "id": "WIfYsXmLH7gg"
      }
    },
    {
      "cell_type": "code",
      "source": [
        "# create loss fucntion\n",
        "loss_fn = nn.L1Loss()\n",
        "\n",
        "# create optimizer\n",
        "optimizer = torch.optim.SGD(params=model_1.parameters(), lr=0.01)"
      ],
      "metadata": {
        "id": "j2eynyA4IJ5h"
      },
      "execution_count": 20,
      "outputs": []
    },
    {
      "cell_type": "code",
      "source": [
        "# Train loop\n",
        "torch.manual_seed(42)\n",
        "\n",
        "# set epoch\n",
        "epochs = 500\n",
        "\n",
        "# put data on the available device\n",
        "X_train = X_train.to(device)\n",
        "X_test = X_test.to(device)\n",
        "y_train = y_train.to(device)\n",
        "y_test = y_test.to(device)\n",
        "\n",
        "for epoch in range(epochs):\n",
        "  ## TRAINING\n",
        "  # set model for train mode\n",
        "  model_1.train()\n",
        "  # 1. forward pass\n",
        "  y_pred = model_1(X_train)\n",
        "  # 2. calc loss\n",
        "  loss = loss_fn(y_pred, y_train)\n",
        "  # 3. set optimizer grad zero\n",
        "  optimizer.zero_grad()\n",
        "  # 4. back prop on loss\n",
        "  loss.backward()\n",
        "  # 5. optimizer step\n",
        "  optimizer.step()\n",
        "\n",
        "  ## TESTING\n",
        "  # set model for testing mode\n",
        "  model_1.eval()\n",
        "  with torch.inference_mode():\n",
        "    # 1. forward\n",
        "    test_pred = model_1(X_test)\n",
        "    # 2. calc loss\n",
        "    test_loss = loss_fn(test_pred, y_test)\n",
        "\n",
        "  # display whats happening\n",
        "  if epoch % 100 == 0:\n",
        "    print(f'EPOCH : {epoch} | TRAIN LOSS : {loss} | TEST LOSS : {test_loss}')\n"
      ],
      "metadata": {
        "colab": {
          "base_uri": "https://localhost:8080/"
        },
        "id": "IjTvXkoBIX0d",
        "outputId": "e2f629be-8c6a-4219-bb13-d6849b509831"
      },
      "execution_count": 22,
      "outputs": [
        {
          "output_type": "stream",
          "name": "stdout",
          "text": [
            "EPOCH : 0 | TRAIN LOSS : 0.0012645035749301314 | TEST LOSS : 0.013801801018416882\n",
            "EPOCH : 100 | TRAIN LOSS : 0.0012645035749301314 | TEST LOSS : 0.013801801018416882\n",
            "EPOCH : 200 | TRAIN LOSS : 0.0012645035749301314 | TEST LOSS : 0.013801801018416882\n",
            "EPOCH : 300 | TRAIN LOSS : 0.0012645035749301314 | TEST LOSS : 0.013801801018416882\n",
            "EPOCH : 400 | TRAIN LOSS : 0.0012645035749301314 | TEST LOSS : 0.013801801018416882\n"
          ]
        }
      ]
    },
    {
      "cell_type": "code",
      "source": [
        "from pprint import pprint\n",
        "print(\"learned by MODEL : \")\n",
        "pprint(model_1.state_dict())\n",
        "print('\\nOriginal values : ')\n",
        "pprint(f'weights : {weight}, biase : {biase}')"
      ],
      "metadata": {
        "colab": {
          "base_uri": "https://localhost:8080/"
        },
        "id": "ha_P2-_VKmAg",
        "outputId": "65fcc4fa-1453-4df2-94aa-be95990083a2"
      },
      "execution_count": 24,
      "outputs": [
        {
          "output_type": "stream",
          "name": "stdout",
          "text": [
            "learned by MODEL : \n",
            "OrderedDict([('linear_layer.weight', tensor([[0.6968]], device='cuda:0')),\n",
            "             ('linear_layer.bias', tensor([0.3025], device='cuda:0'))])\n",
            "\n",
            "Original values : \n",
            "'weights : 0.7, biase : 0.3'\n"
          ]
        }
      ]
    },
    {
      "cell_type": "markdown",
      "source": [
        "## 4. Making predictions"
      ],
      "metadata": {
        "id": "U3avBwBFLymp"
      }
    },
    {
      "cell_type": "code",
      "source": [
        "# turn model into evaluation mode\n",
        "model_1.eval()\n",
        "\n",
        "# make preds on test set\n",
        "with torch.inference_mode():\n",
        "  y_preds = model_1(X_test)\n",
        "y_preds"
      ],
      "metadata": {
        "colab": {
          "base_uri": "https://localhost:8080/"
        },
        "id": "a7CT04-RMSCV",
        "outputId": "d2c6e89c-03a3-4b6d-9c01-86d998c7b9f3"
      },
      "execution_count": 25,
      "outputs": [
        {
          "output_type": "execute_result",
          "data": {
            "text/plain": [
              "tensor([[0.8600],\n",
              "        [0.8739],\n",
              "        [0.8878],\n",
              "        [0.9018],\n",
              "        [0.9157],\n",
              "        [0.9296],\n",
              "        [0.9436],\n",
              "        [0.9575],\n",
              "        [0.9714],\n",
              "        [0.9854]], device='cuda:0')"
            ]
          },
          "metadata": {},
          "execution_count": 25
        }
      ]
    },
    {
      "cell_type": "code",
      "source": [
        "# plot_pred() with y_preds won't work because data is not in CPU\n",
        "# put data on cpu then plot it\n",
        "plot_pred(predictions=y_preds.cpu())"
      ],
      "metadata": {
        "colab": {
          "base_uri": "https://localhost:8080/",
          "height": 460
        },
        "id": "wGiVvoDyMeaF",
        "outputId": "fc144250-352b-44f5-81c2-b8417cf47d2e"
      },
      "execution_count": 26,
      "outputs": [
        {
          "output_type": "display_data",
          "data": {
            "text/plain": [
              "<Figure size 1000x700 with 1 Axes>"
            ],
            "image/png": "[encoded data removed]"
          },
          "metadata": {}
        }
      ]
    },
    {
      "cell_type": "markdown",
      "source": [
        "## 5. Saving and Loading"
      ],
      "metadata": {
        "id": "tRRjrwS-MsTg"
      }
    },
    {
      "cell_type": "code",
      "source": [
        "from pathlib import Path\n",
        "\n",
        "# 1. create model dir\n",
        "MODEL_PATH = Path(\"models\")\n",
        "MODEL_PATH.mkdir(parents=True, exist_ok= True)\n",
        "\n",
        "# 2. Create model save path\n",
        "MODEL_NAME = '01_pytorch_workflow_model_1.pth'\n",
        "MODEL_SAVE_PATH = MODEL_PATH / MODEL_NAME\n",
        "\n",
        "# 3. Save the model in dir\n",
        "print(f'saving in {MODEL_SAVE_PATH}')\n",
        "torch.save(obj=model_1.state_dict(), f=MODEL_SAVE_PATH)"
      ],
      "metadata": {
        "colab": {
          "base_uri": "https://localhost:8080/"
        },
        "id": "7nUFX_3tNO3F",
        "outputId": "941ce801-495f-4c5d-89bb-a535186b977d"
      },
      "execution_count": 27,
      "outputs": [
        {
          "output_type": "stream",
          "name": "stdout",
          "text": [
            "saving in models/01_pytorch_workflow_model_1.pth\n"
          ]
        }
      ]
    },
    {
      "cell_type": "code",
      "source": [
        "# instantiate a fresh instance of LinearregressionModelV2\n",
        "loaded_model_1 = LinearRegressionModelV2()\n",
        "\n",
        "# load model state dict\n",
        "loaded_model_1.load_state_dict(torch.load(MODEL_SAVE_PATH))\n",
        "\n",
        "# put model to target device\n",
        "loaded_model_1.to(device)\n",
        "\n",
        "print(f'loaded model : {loaded_model_1}')\n",
        "print(f'model on device : {next(loaded_model_1.parameters()).device}')"
      ],
      "metadata": {
        "colab": {
          "base_uri": "https://localhost:8080/"
        },
        "id": "X_Hi0NILOEf0",
        "outputId": "9a609743-b7ad-4ea8-ef1f-093098e509b6"
      },
      "execution_count": 29,
      "outputs": [
        {
          "output_type": "stream",
          "name": "stdout",
          "text": [
            "loaded model : LinearRegressionModelV2(\n",
            "  (linear_layer): Linear(in_features=1, out_features=1, bias=True)\n",
            ")\n",
            "model on device : cuda:0\n"
          ]
        }
      ]
    },
    {
      "cell_type": "code",
      "source": [
        "# evaluate loaded model\n",
        "loaded_model_1.eval()\n",
        "with torch.inference_mode():\n",
        "  loaded_model_1_preds = loaded_model_1(X_test)\n",
        "y_preds == loaded_model_1_preds"
      ],
      "metadata": {
        "colab": {
          "base_uri": "https://localhost:8080/"
        },
        "id": "hJs0itlPPI51",
        "outputId": "3192133d-fedf-4190-bc14-f2339041ca9c"
      },
      "execution_count": 30,
      "outputs": [
        {
          "output_type": "execute_result",
          "data": {
            "text/plain": [
              "tensor([[True],\n",
              "        [True],\n",
              "        [True],\n",
              "        [True],\n",
              "        [True],\n",
              "        [True],\n",
              "        [True],\n",
              "        [True],\n",
              "        [True],\n",
              "        [True]], device='cuda:0')"
            ]
          },
          "metadata": {},
          "execution_count": 30
        }
      ]
    },
    {
      "cell_type": "code",
      "source": [],
      "metadata": {
        "id": "rGaxixKuPtIy"
      },
      "execution_count": null,
      "outputs": []
    }
  ]
}